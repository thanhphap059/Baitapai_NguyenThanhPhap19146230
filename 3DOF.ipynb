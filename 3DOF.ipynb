{
  "nbformat": 4,
  "nbformat_minor": 0,
  "metadata": {
    "colab": {
      "name": "3DOF",
      "provenance": [],
      "collapsed_sections": [],
      "mount_file_id": "1OAHXOA4VjumjZLDPIOGOkxwWH_BXA2dp",
      "authorship_tag": "ABX9TyOkmAMEnB1LSDg1ivCOgg+E",
      "include_colab_link": true
    },
    "kernelspec": {
      "name": "python3",
      "display_name": "Python 3"
    },
    "language_info": {
      "name": "python"
    }
  },
  "cells": [
    {
      "cell_type": "markdown",
      "metadata": {
        "id": "view-in-github",
        "colab_type": "text"
      },
      "source": [
        "<a href=\"https://colab.research.google.com/github/thanhphap059/NguyenThanhPhap19146230/blob/main/3DOF.ipynb\" target=\"_parent\"><img src=\"https://colab.research.google.com/assets/colab-badge.svg\" alt=\"Open In Colab\"/></a>"
      ]
    },
    {
      "cell_type": "code",
      "execution_count": null,
      "metadata": {
        "id": "72P41rdn03x2"
      },
      "outputs": [],
      "source": [
        "#BÀI 2: 3DOF\n",
        "#Tên: Nguyễn Thanh Pháp\n",
        "#MSSV: 19146230\n",
        "import math as ma\n",
        "import pandas as pd\n",
        "import numpy as np\n",
        "import csv\n",
        "from sklearn.model_selection import train_test_split\n",
        "import matplotlib.pyplot as plt\n",
        "from keras.models import Sequential\n",
        "from keras.layers import Dense,Activation,Dropout\n",
        "from tensorflow.keras.optimizers import Adam\n",
        "from keras.callbacks import EarlyStopping\n",
        "from keras.backend import categorical_crossentropy"
      ]
    },
    {
      "cell_type": "code",
      "source": [
        "create_data=[]\n",
        "for i in range(0,180,2):\n",
        "    array=[]\n",
        "    for j in range(0,200,2):\n",
        "        k=180-i-j\n",
        "        x=50*ma.cos(ma.radians(i))+40*ma.cos(ma.radians(i+j))+30*ma.cos(ma.radians(i+j+k))\n",
        "        y=50*ma.sin(ma.radians(i))+40*ma.sin(ma.radians(i+j))+30*ma.sin(ma.radians(i+j+k))\n",
        "        array.append(np.array((i,j,k,x,y)))\n",
        "    create_data.extend(array)"
      ],
      "metadata": {
        "id": "VPiSy0xk14ht"
      },
      "execution_count": null,
      "outputs": []
    },
    {
      "cell_type": "code",
      "source": [
        "header = ['alpha', 'beta', 'sigma' ,'x', 'y']\n",
        "with open('3DOF1.csv', 'w', encoding='UTF8', newline='') as data_table:\n",
        "    viet = csv.writer(data_table)\n",
        "    viet.writerow(header)\n",
        "    viet.writerows(create_data)"
      ],
      "metadata": {
        "id": "NjruHUk519e8"
      },
      "execution_count": null,
      "outputs": []
    },
    {
      "cell_type": "code",
      "source": [
        "data=pd.read_csv('3DOF1.csv')\n",
        "data"
      ],
      "metadata": {
        "id": "sNuKKZbbwQpI",
        "colab": {
          "base_uri": "https://localhost:8080/",
          "height": 424
        },
        "outputId": "12012436-722b-4c6f-bb70-e2fc4d25872a"
      },
      "execution_count": null,
      "outputs": [
        {
          "output_type": "execute_result",
          "data": {
            "text/plain": [
              "      alpha   beta  sigma          x             y\n",
              "0       0.0    0.0  180.0  60.000000  3.673940e-15\n",
              "1       0.0    2.0  178.0  59.975633  1.395980e+00\n",
              "2       0.0    4.0  176.0  59.902562  2.790259e+00\n",
              "3       0.0    6.0  174.0  59.780876  4.181139e+00\n",
              "4       0.0    8.0  172.0  59.610723  5.566924e+00\n",
              "...     ...    ...    ...        ...           ...\n",
              "8995  178.0  190.0 -188.0 -40.358819  7.311899e+00\n",
              "8996  178.0  192.0 -190.0 -40.577231  8.690902e+00\n",
              "8997  178.0  194.0 -192.0 -40.843637  1.006144e+01\n",
              "8998  178.0  196.0 -194.0 -41.157712  1.142185e+01\n",
              "8999  178.0  198.0 -196.0 -41.519074  1.277047e+01\n",
              "\n",
              "[9000 rows x 5 columns]"
            ],
            "text/html": [
              "\n",
              "  <div id=\"df-882191e6-92cf-46e3-b639-9e83623194c7\">\n",
              "    <div class=\"colab-df-container\">\n",
              "      <div>\n",
              "<style scoped>\n",
              "    .dataframe tbody tr th:only-of-type {\n",
              "        vertical-align: middle;\n",
              "    }\n",
              "\n",
              "    .dataframe tbody tr th {\n",
              "        vertical-align: top;\n",
              "    }\n",
              "\n",
              "    .dataframe thead th {\n",
              "        text-align: right;\n",
              "    }\n",
              "</style>\n",
              "<table border=\"1\" class=\"dataframe\">\n",
              "  <thead>\n",
              "    <tr style=\"text-align: right;\">\n",
              "      <th></th>\n",
              "      <th>alpha</th>\n",
              "      <th>beta</th>\n",
              "      <th>sigma</th>\n",
              "      <th>x</th>\n",
              "      <th>y</th>\n",
              "    </tr>\n",
              "  </thead>\n",
              "  <tbody>\n",
              "    <tr>\n",
              "      <th>0</th>\n",
              "      <td>0.0</td>\n",
              "      <td>0.0</td>\n",
              "      <td>180.0</td>\n",
              "      <td>60.000000</td>\n",
              "      <td>3.673940e-15</td>\n",
              "    </tr>\n",
              "    <tr>\n",
              "      <th>1</th>\n",
              "      <td>0.0</td>\n",
              "      <td>2.0</td>\n",
              "      <td>178.0</td>\n",
              "      <td>59.975633</td>\n",
              "      <td>1.395980e+00</td>\n",
              "    </tr>\n",
              "    <tr>\n",
              "      <th>2</th>\n",
              "      <td>0.0</td>\n",
              "      <td>4.0</td>\n",
              "      <td>176.0</td>\n",
              "      <td>59.902562</td>\n",
              "      <td>2.790259e+00</td>\n",
              "    </tr>\n",
              "    <tr>\n",
              "      <th>3</th>\n",
              "      <td>0.0</td>\n",
              "      <td>6.0</td>\n",
              "      <td>174.0</td>\n",
              "      <td>59.780876</td>\n",
              "      <td>4.181139e+00</td>\n",
              "    </tr>\n",
              "    <tr>\n",
              "      <th>4</th>\n",
              "      <td>0.0</td>\n",
              "      <td>8.0</td>\n",
              "      <td>172.0</td>\n",
              "      <td>59.610723</td>\n",
              "      <td>5.566924e+00</td>\n",
              "    </tr>\n",
              "    <tr>\n",
              "      <th>...</th>\n",
              "      <td>...</td>\n",
              "      <td>...</td>\n",
              "      <td>...</td>\n",
              "      <td>...</td>\n",
              "      <td>...</td>\n",
              "    </tr>\n",
              "    <tr>\n",
              "      <th>8995</th>\n",
              "      <td>178.0</td>\n",
              "      <td>190.0</td>\n",
              "      <td>-188.0</td>\n",
              "      <td>-40.358819</td>\n",
              "      <td>7.311899e+00</td>\n",
              "    </tr>\n",
              "    <tr>\n",
              "      <th>8996</th>\n",
              "      <td>178.0</td>\n",
              "      <td>192.0</td>\n",
              "      <td>-190.0</td>\n",
              "      <td>-40.577231</td>\n",
              "      <td>8.690902e+00</td>\n",
              "    </tr>\n",
              "    <tr>\n",
              "      <th>8997</th>\n",
              "      <td>178.0</td>\n",
              "      <td>194.0</td>\n",
              "      <td>-192.0</td>\n",
              "      <td>-40.843637</td>\n",
              "      <td>1.006144e+01</td>\n",
              "    </tr>\n",
              "    <tr>\n",
              "      <th>8998</th>\n",
              "      <td>178.0</td>\n",
              "      <td>196.0</td>\n",
              "      <td>-194.0</td>\n",
              "      <td>-41.157712</td>\n",
              "      <td>1.142185e+01</td>\n",
              "    </tr>\n",
              "    <tr>\n",
              "      <th>8999</th>\n",
              "      <td>178.0</td>\n",
              "      <td>198.0</td>\n",
              "      <td>-196.0</td>\n",
              "      <td>-41.519074</td>\n",
              "      <td>1.277047e+01</td>\n",
              "    </tr>\n",
              "  </tbody>\n",
              "</table>\n",
              "<p>9000 rows × 5 columns</p>\n",
              "</div>\n",
              "      <button class=\"colab-df-convert\" onclick=\"convertToInteractive('df-882191e6-92cf-46e3-b639-9e83623194c7')\"\n",
              "              title=\"Convert this dataframe to an interactive table.\"\n",
              "              style=\"display:none;\">\n",
              "        \n",
              "  <svg xmlns=\"http://www.w3.org/2000/svg\" height=\"24px\"viewBox=\"0 0 24 24\"\n",
              "       width=\"24px\">\n",
              "    <path d=\"M0 0h24v24H0V0z\" fill=\"none\"/>\n",
              "    <path d=\"M18.56 5.44l.94 2.06.94-2.06 2.06-.94-2.06-.94-.94-2.06-.94 2.06-2.06.94zm-11 1L8.5 8.5l.94-2.06 2.06-.94-2.06-.94L8.5 2.5l-.94 2.06-2.06.94zm10 10l.94 2.06.94-2.06 2.06-.94-2.06-.94-.94-2.06-.94 2.06-2.06.94z\"/><path d=\"M17.41 7.96l-1.37-1.37c-.4-.4-.92-.59-1.43-.59-.52 0-1.04.2-1.43.59L10.3 9.45l-7.72 7.72c-.78.78-.78 2.05 0 2.83L4 21.41c.39.39.9.59 1.41.59.51 0 1.02-.2 1.41-.59l7.78-7.78 2.81-2.81c.8-.78.8-2.07 0-2.86zM5.41 20L4 18.59l7.72-7.72 1.47 1.35L5.41 20z\"/>\n",
              "  </svg>\n",
              "      </button>\n",
              "      \n",
              "  <style>\n",
              "    .colab-df-container {\n",
              "      display:flex;\n",
              "      flex-wrap:wrap;\n",
              "      gap: 12px;\n",
              "    }\n",
              "\n",
              "    .colab-df-convert {\n",
              "      background-color: #E8F0FE;\n",
              "      border: none;\n",
              "      border-radius: 50%;\n",
              "      cursor: pointer;\n",
              "      display: none;\n",
              "      fill: #1967D2;\n",
              "      height: 32px;\n",
              "      padding: 0 0 0 0;\n",
              "      width: 32px;\n",
              "    }\n",
              "\n",
              "    .colab-df-convert:hover {\n",
              "      background-color: #E2EBFA;\n",
              "      box-shadow: 0px 1px 2px rgba(60, 64, 67, 0.3), 0px 1px 3px 1px rgba(60, 64, 67, 0.15);\n",
              "      fill: #174EA6;\n",
              "    }\n",
              "\n",
              "    [theme=dark] .colab-df-convert {\n",
              "      background-color: #3B4455;\n",
              "      fill: #D2E3FC;\n",
              "    }\n",
              "\n",
              "    [theme=dark] .colab-df-convert:hover {\n",
              "      background-color: #434B5C;\n",
              "      box-shadow: 0px 1px 3px 1px rgba(0, 0, 0, 0.15);\n",
              "      filter: drop-shadow(0px 1px 2px rgba(0, 0, 0, 0.3));\n",
              "      fill: #FFFFFF;\n",
              "    }\n",
              "  </style>\n",
              "\n",
              "      <script>\n",
              "        const buttonEl =\n",
              "          document.querySelector('#df-882191e6-92cf-46e3-b639-9e83623194c7 button.colab-df-convert');\n",
              "        buttonEl.style.display =\n",
              "          google.colab.kernel.accessAllowed ? 'block' : 'none';\n",
              "\n",
              "        async function convertToInteractive(key) {\n",
              "          const element = document.querySelector('#df-882191e6-92cf-46e3-b639-9e83623194c7');\n",
              "          const dataTable =\n",
              "            await google.colab.kernel.invokeFunction('convertToInteractive',\n",
              "                                                     [key], {});\n",
              "          if (!dataTable) return;\n",
              "\n",
              "          const docLinkHtml = 'Like what you see? Visit the ' +\n",
              "            '<a target=\"_blank\" href=https://colab.research.google.com/notebooks/data_table.ipynb>data table notebook</a>'\n",
              "            + ' to learn more about interactive tables.';\n",
              "          element.innerHTML = '';\n",
              "          dataTable['output_type'] = 'display_data';\n",
              "          await google.colab.output.renderOutput(dataTable, element);\n",
              "          const docLink = document.createElement('div');\n",
              "          docLink.innerHTML = docLinkHtml;\n",
              "          element.appendChild(docLink);\n",
              "        }\n",
              "      </script>\n",
              "    </div>\n",
              "  </div>\n",
              "  "
            ]
          },
          "metadata": {},
          "execution_count": 40
        }
      ]
    },
    {
      "cell_type": "code",
      "source": [
        "x_data=np.array(data.drop(['alpha','beta','sigma'],axis=1))\n",
        "y_data=np.array(data[['alpha','beta','sigma']])\n",
        "y_data.shape"
      ],
      "metadata": {
        "id": "VwblMsFxwVNK",
        "colab": {
          "base_uri": "https://localhost:8080/"
        },
        "outputId": "f903fb7d-e082-493d-f7e5-afb8ccdcb097"
      },
      "execution_count": null,
      "outputs": [
        {
          "output_type": "execute_result",
          "data": {
            "text/plain": [
              "(9000, 3)"
            ]
          },
          "metadata": {},
          "execution_count": 41
        }
      ]
    },
    {
      "cell_type": "code",
      "source": [
        "x_train,x_test,y_train,y_test=train_test_split(x_data,y_data,test_size=0.1)\n",
        "x_train.shape"
      ],
      "metadata": {
        "id": "KzeeNHQawf4h",
        "colab": {
          "base_uri": "https://localhost:8080/"
        },
        "outputId": "24e0e9af-a1dc-425c-a626-199ffe83beee"
      },
      "execution_count": null,
      "outputs": [
        {
          "output_type": "execute_result",
          "data": {
            "text/plain": [
              "(8100, 2)"
            ]
          },
          "metadata": {},
          "execution_count": 42
        }
      ]
    },
    {
      "cell_type": "code",
      "source": [
        "model=Sequential()\n",
        "model.add(Dense(128, activation='relu', input_shape = (2,))) \n",
        "model.add(Dense(64, activation='relu'))\n",
        "model.add(Dense(32, activation='relu'))\n",
        "model.add(Dense(16, activation='relu'))\n",
        "model.add(Dense(8, activation='relu'))\n",
        "model.add(Dense(3,  activation='linear'))\n",
        "model.summary()"
      ],
      "metadata": {
        "id": "btoVhgC9wjLQ",
        "colab": {
          "base_uri": "https://localhost:8080/"
        },
        "outputId": "2faef06b-5098-4025-b896-f4f55bb2d68f"
      },
      "execution_count": null,
      "outputs": [
        {
          "output_type": "stream",
          "name": "stdout",
          "text": [
            "Model: \"sequential_2\"\n",
            "_________________________________________________________________\n",
            " Layer (type)                Output Shape              Param #   \n",
            "=================================================================\n",
            " dense_12 (Dense)            (None, 128)               384       \n",
            "                                                                 \n",
            " dense_13 (Dense)            (None, 64)                8256      \n",
            "                                                                 \n",
            " dense_14 (Dense)            (None, 32)                2080      \n",
            "                                                                 \n",
            " dense_15 (Dense)            (None, 16)                528       \n",
            "                                                                 \n",
            " dense_16 (Dense)            (None, 8)                 136       \n",
            "                                                                 \n",
            " dense_17 (Dense)            (None, 3)                 27        \n",
            "                                                                 \n",
            "=================================================================\n",
            "Total params: 11,411\n",
            "Trainable params: 11,411\n",
            "Non-trainable params: 0\n",
            "_________________________________________________________________\n"
          ]
        }
      ]
    },
    {
      "cell_type": "code",
      "source": [
        "model.compile(loss='mse',optimizer=Adam(),metrics=['mean_absolute_error'])\n",
        "history=model.fit(x_train,y_train,batch_size=2000,epochs=1000,verbose=1, validation_split=0.2,callbacks=[EarlyStopping(monitor='val_loss',patience=50)]) "
      ],
      "metadata": {
        "colab": {
          "base_uri": "https://localhost:8080/"
        },
        "id": "Az7vSTPuq_Bd",
        "outputId": "edc134f4-666b-47b3-edad-5419a2671a7c"
      },
      "execution_count": null,
      "outputs": [
        {
          "output_type": "stream",
          "name": "stdout",
          "text": [
            "Epoch 1/1000\n",
            "4/4 [==============================] - 1s 66ms/step - loss: 391.3659 - mean_absolute_error: 12.0620 - val_loss: 544.0361 - val_mean_absolute_error: 17.9270\n",
            "Epoch 2/1000\n",
            "4/4 [==============================] - 0s 16ms/step - loss: 363.3080 - mean_absolute_error: 13.7457 - val_loss: 249.4597 - val_mean_absolute_error: 10.0563\n",
            "Epoch 3/1000\n",
            "4/4 [==============================] - 0s 17ms/step - loss: 292.4710 - mean_absolute_error: 11.2763 - val_loss: 170.0709 - val_mean_absolute_error: 7.2295\n",
            "Epoch 4/1000\n",
            "4/4 [==============================] - 0s 16ms/step - loss: 174.8276 - mean_absolute_error: 8.3775 - val_loss: 225.4827 - val_mean_absolute_error: 10.9304\n",
            "Epoch 5/1000\n",
            "4/4 [==============================] - 0s 18ms/step - loss: 186.4974 - mean_absolute_error: 9.3315 - val_loss: 159.6560 - val_mean_absolute_error: 7.3060\n",
            "Epoch 6/1000\n",
            "4/4 [==============================] - 0s 19ms/step - loss: 173.4127 - mean_absolute_error: 7.9329 - val_loss: 137.7015 - val_mean_absolute_error: 6.4002\n",
            "Epoch 7/1000\n",
            "4/4 [==============================] - 0s 21ms/step - loss: 141.2936 - mean_absolute_error: 6.7619 - val_loss: 154.5561 - val_mean_absolute_error: 7.5593\n",
            "Epoch 8/1000\n",
            "4/4 [==============================] - 0s 21ms/step - loss: 138.4562 - mean_absolute_error: 6.7064 - val_loss: 142.8539 - val_mean_absolute_error: 6.5333\n",
            "Epoch 9/1000\n",
            "4/4 [==============================] - 0s 18ms/step - loss: 139.5304 - mean_absolute_error: 6.2651 - val_loss: 126.9470 - val_mean_absolute_error: 5.9849\n",
            "Epoch 10/1000\n",
            "4/4 [==============================] - 0s 17ms/step - loss: 132.2972 - mean_absolute_error: 6.3173 - val_loss: 123.2545 - val_mean_absolute_error: 5.6629\n",
            "Epoch 11/1000\n",
            "4/4 [==============================] - 0s 18ms/step - loss: 124.0519 - mean_absolute_error: 5.5498 - val_loss: 126.1668 - val_mean_absolute_error: 5.5894\n",
            "Epoch 12/1000\n",
            "4/4 [==============================] - 0s 18ms/step - loss: 123.0714 - mean_absolute_error: 5.4512 - val_loss: 123.1611 - val_mean_absolute_error: 5.5640\n",
            "Epoch 13/1000\n",
            "4/4 [==============================] - 0s 17ms/step - loss: 119.5691 - mean_absolute_error: 5.2712 - val_loss: 118.3244 - val_mean_absolute_error: 5.1408\n",
            "Epoch 14/1000\n",
            "4/4 [==============================] - 0s 16ms/step - loss: 117.4326 - mean_absolute_error: 5.0425 - val_loss: 116.8289 - val_mean_absolute_error: 5.1674\n",
            "Epoch 15/1000\n",
            "4/4 [==============================] - 0s 16ms/step - loss: 114.8866 - mean_absolute_error: 4.8279 - val_loss: 114.8510 - val_mean_absolute_error: 4.7292\n",
            "Epoch 16/1000\n",
            "4/4 [==============================] - 0s 16ms/step - loss: 113.3860 - mean_absolute_error: 4.6121 - val_loss: 111.8215 - val_mean_absolute_error: 4.5621\n",
            "Epoch 17/1000\n",
            "4/4 [==============================] - 0s 18ms/step - loss: 111.5758 - mean_absolute_error: 4.3990 - val_loss: 110.5807 - val_mean_absolute_error: 4.3077\n",
            "Epoch 18/1000\n",
            "4/4 [==============================] - 0s 20ms/step - loss: 110.7679 - mean_absolute_error: 4.3286 - val_loss: 110.3751 - val_mean_absolute_error: 4.2113\n",
            "Epoch 19/1000\n",
            "4/4 [==============================] - 0s 17ms/step - loss: 110.4011 - mean_absolute_error: 4.1426 - val_loss: 110.6846 - val_mean_absolute_error: 4.3197\n",
            "Epoch 20/1000\n",
            "4/4 [==============================] - 0s 17ms/step - loss: 110.1961 - mean_absolute_error: 4.2190 - val_loss: 111.1573 - val_mean_absolute_error: 4.2807\n",
            "Epoch 21/1000\n",
            "4/4 [==============================] - 0s 17ms/step - loss: 110.5601 - mean_absolute_error: 4.2419 - val_loss: 110.5819 - val_mean_absolute_error: 4.3367\n",
            "Epoch 22/1000\n",
            "4/4 [==============================] - 0s 20ms/step - loss: 109.8111 - mean_absolute_error: 4.1234 - val_loss: 110.4221 - val_mean_absolute_error: 4.1068\n",
            "Epoch 23/1000\n",
            "4/4 [==============================] - 0s 16ms/step - loss: 109.4496 - mean_absolute_error: 4.1087 - val_loss: 110.0196 - val_mean_absolute_error: 4.0953\n",
            "Epoch 24/1000\n",
            "4/4 [==============================] - 0s 19ms/step - loss: 109.3545 - mean_absolute_error: 4.0525 - val_loss: 110.4876 - val_mean_absolute_error: 4.1947\n",
            "Epoch 25/1000\n",
            "4/4 [==============================] - 0s 16ms/step - loss: 109.3049 - mean_absolute_error: 4.0712 - val_loss: 110.4201 - val_mean_absolute_error: 4.0973\n",
            "Epoch 26/1000\n",
            "4/4 [==============================] - 0s 18ms/step - loss: 109.6309 - mean_absolute_error: 4.0601 - val_loss: 110.6026 - val_mean_absolute_error: 4.1757\n",
            "Epoch 27/1000\n",
            "4/4 [==============================] - 0s 16ms/step - loss: 110.1311 - mean_absolute_error: 4.1702 - val_loss: 110.4361 - val_mean_absolute_error: 4.3397\n",
            "Epoch 28/1000\n",
            "4/4 [==============================] - 0s 23ms/step - loss: 110.2266 - mean_absolute_error: 4.1259 - val_loss: 112.8692 - val_mean_absolute_error: 4.4735\n",
            "Epoch 29/1000\n",
            "4/4 [==============================] - 0s 17ms/step - loss: 112.1425 - mean_absolute_error: 4.3462 - val_loss: 113.3600 - val_mean_absolute_error: 4.4934\n",
            "Epoch 30/1000\n",
            "4/4 [==============================] - 0s 17ms/step - loss: 111.1840 - mean_absolute_error: 4.2939 - val_loss: 109.4722 - val_mean_absolute_error: 4.1283\n",
            "Epoch 31/1000\n",
            "4/4 [==============================] - 0s 16ms/step - loss: 110.4954 - mean_absolute_error: 4.0888 - val_loss: 110.5622 - val_mean_absolute_error: 4.3228\n",
            "Epoch 32/1000\n",
            "4/4 [==============================] - 0s 18ms/step - loss: 110.2021 - mean_absolute_error: 4.0961 - val_loss: 110.8938 - val_mean_absolute_error: 4.1294\n",
            "Epoch 33/1000\n",
            "4/4 [==============================] - 0s 18ms/step - loss: 109.2029 - mean_absolute_error: 4.0438 - val_loss: 110.3925 - val_mean_absolute_error: 4.1349\n",
            "Epoch 34/1000\n",
            "4/4 [==============================] - 0s 17ms/step - loss: 110.0932 - mean_absolute_error: 4.0316 - val_loss: 109.7708 - val_mean_absolute_error: 4.0776\n",
            "Epoch 35/1000\n",
            "4/4 [==============================] - 0s 18ms/step - loss: 109.3062 - mean_absolute_error: 3.9872 - val_loss: 111.6689 - val_mean_absolute_error: 4.2783\n",
            "Epoch 36/1000\n",
            "4/4 [==============================] - 0s 22ms/step - loss: 109.9749 - mean_absolute_error: 4.0904 - val_loss: 110.7999 - val_mean_absolute_error: 4.2085\n",
            "Epoch 37/1000\n",
            "4/4 [==============================] - 0s 18ms/step - loss: 109.8574 - mean_absolute_error: 4.1560 - val_loss: 111.7340 - val_mean_absolute_error: 4.1462\n",
            "Epoch 38/1000\n",
            "4/4 [==============================] - 0s 25ms/step - loss: 110.3792 - mean_absolute_error: 4.0676 - val_loss: 111.1815 - val_mean_absolute_error: 4.1906\n",
            "Epoch 39/1000\n",
            "4/4 [==============================] - 0s 17ms/step - loss: 109.6077 - mean_absolute_error: 4.0433 - val_loss: 109.6297 - val_mean_absolute_error: 4.0673\n",
            "Epoch 40/1000\n",
            "4/4 [==============================] - 0s 22ms/step - loss: 108.9571 - mean_absolute_error: 3.9816 - val_loss: 109.8822 - val_mean_absolute_error: 4.0668\n",
            "Epoch 41/1000\n",
            "4/4 [==============================] - 0s 17ms/step - loss: 109.0963 - mean_absolute_error: 4.0028 - val_loss: 109.9105 - val_mean_absolute_error: 4.0428\n",
            "Epoch 42/1000\n",
            "4/4 [==============================] - 0s 18ms/step - loss: 109.1102 - mean_absolute_error: 3.9788 - val_loss: 109.9781 - val_mean_absolute_error: 4.1231\n",
            "Epoch 43/1000\n",
            "4/4 [==============================] - 0s 18ms/step - loss: 109.0077 - mean_absolute_error: 4.0026 - val_loss: 110.7758 - val_mean_absolute_error: 4.1111\n",
            "Epoch 44/1000\n",
            "4/4 [==============================] - 0s 17ms/step - loss: 108.8527 - mean_absolute_error: 3.9660 - val_loss: 111.0207 - val_mean_absolute_error: 4.1824\n",
            "Epoch 45/1000\n",
            "4/4 [==============================] - 0s 19ms/step - loss: 109.6759 - mean_absolute_error: 4.0462 - val_loss: 110.9249 - val_mean_absolute_error: 4.1083\n",
            "Epoch 46/1000\n",
            "4/4 [==============================] - 0s 19ms/step - loss: 109.5427 - mean_absolute_error: 3.9958 - val_loss: 109.8793 - val_mean_absolute_error: 4.0343\n",
            "Epoch 47/1000\n",
            "4/4 [==============================] - 0s 18ms/step - loss: 109.1329 - mean_absolute_error: 4.0143 - val_loss: 109.3944 - val_mean_absolute_error: 4.0349\n",
            "Epoch 48/1000\n",
            "4/4 [==============================] - 0s 19ms/step - loss: 109.9653 - mean_absolute_error: 4.0316 - val_loss: 109.4932 - val_mean_absolute_error: 4.0179\n",
            "Epoch 49/1000\n",
            "4/4 [==============================] - 0s 21ms/step - loss: 109.0263 - mean_absolute_error: 3.9710 - val_loss: 111.7929 - val_mean_absolute_error: 4.3007\n",
            "Epoch 50/1000\n",
            "4/4 [==============================] - 0s 17ms/step - loss: 110.1039 - mean_absolute_error: 4.0807 - val_loss: 111.5217 - val_mean_absolute_error: 4.3224\n",
            "Epoch 51/1000\n",
            "4/4 [==============================] - 0s 19ms/step - loss: 111.4652 - mean_absolute_error: 4.2600 - val_loss: 109.9005 - val_mean_absolute_error: 4.1002\n",
            "Epoch 52/1000\n",
            "4/4 [==============================] - 0s 17ms/step - loss: 110.9153 - mean_absolute_error: 4.2897 - val_loss: 113.7563 - val_mean_absolute_error: 4.2815\n",
            "Epoch 53/1000\n",
            "4/4 [==============================] - 0s 17ms/step - loss: 111.9503 - mean_absolute_error: 4.2408 - val_loss: 112.7187 - val_mean_absolute_error: 4.3893\n",
            "Epoch 54/1000\n",
            "4/4 [==============================] - 0s 17ms/step - loss: 110.0663 - mean_absolute_error: 4.1974 - val_loss: 110.4259 - val_mean_absolute_error: 4.1331\n",
            "Epoch 55/1000\n",
            "4/4 [==============================] - 0s 19ms/step - loss: 110.4949 - mean_absolute_error: 4.1023 - val_loss: 116.8695 - val_mean_absolute_error: 4.8189\n",
            "Epoch 56/1000\n",
            "4/4 [==============================] - 0s 17ms/step - loss: 112.9668 - mean_absolute_error: 4.4405 - val_loss: 115.7830 - val_mean_absolute_error: 4.5873\n",
            "Epoch 57/1000\n",
            "4/4 [==============================] - 0s 17ms/step - loss: 113.9312 - mean_absolute_error: 4.4334 - val_loss: 109.5613 - val_mean_absolute_error: 4.1361\n",
            "Epoch 58/1000\n",
            "4/4 [==============================] - 0s 17ms/step - loss: 111.5795 - mean_absolute_error: 4.4318 - val_loss: 112.3344 - val_mean_absolute_error: 4.4677\n",
            "Epoch 59/1000\n",
            "4/4 [==============================] - 0s 17ms/step - loss: 112.5402 - mean_absolute_error: 4.4154 - val_loss: 113.1852 - val_mean_absolute_error: 4.5390\n",
            "Epoch 60/1000\n",
            "4/4 [==============================] - 0s 18ms/step - loss: 111.4569 - mean_absolute_error: 4.3265 - val_loss: 112.4829 - val_mean_absolute_error: 4.2886\n",
            "Epoch 61/1000\n",
            "4/4 [==============================] - 0s 18ms/step - loss: 111.4497 - mean_absolute_error: 4.2849 - val_loss: 110.5052 - val_mean_absolute_error: 4.3228\n",
            "Epoch 62/1000\n",
            "4/4 [==============================] - 0s 17ms/step - loss: 110.9505 - mean_absolute_error: 4.2289 - val_loss: 113.6429 - val_mean_absolute_error: 4.5982\n",
            "Epoch 63/1000\n",
            "4/4 [==============================] - 0s 21ms/step - loss: 111.7254 - mean_absolute_error: 4.3102 - val_loss: 113.1623 - val_mean_absolute_error: 4.4770\n",
            "Epoch 64/1000\n",
            "4/4 [==============================] - 0s 17ms/step - loss: 110.8695 - mean_absolute_error: 4.2739 - val_loss: 110.3083 - val_mean_absolute_error: 4.2178\n",
            "Epoch 65/1000\n",
            "4/4 [==============================] - 0s 17ms/step - loss: 111.0366 - mean_absolute_error: 4.2656 - val_loss: 109.8697 - val_mean_absolute_error: 4.1560\n",
            "Epoch 66/1000\n",
            "4/4 [==============================] - 0s 17ms/step - loss: 109.8063 - mean_absolute_error: 4.1677 - val_loss: 110.4754 - val_mean_absolute_error: 4.1019\n",
            "Epoch 67/1000\n",
            "4/4 [==============================] - 0s 18ms/step - loss: 110.2586 - mean_absolute_error: 4.0791 - val_loss: 110.4512 - val_mean_absolute_error: 4.1194\n",
            "Epoch 68/1000\n",
            "4/4 [==============================] - 0s 19ms/step - loss: 109.1230 - mean_absolute_error: 4.0427 - val_loss: 109.8910 - val_mean_absolute_error: 4.1507\n",
            "Epoch 69/1000\n",
            "4/4 [==============================] - 0s 17ms/step - loss: 109.5243 - mean_absolute_error: 4.0656 - val_loss: 109.7000 - val_mean_absolute_error: 4.0101\n",
            "Epoch 70/1000\n",
            "4/4 [==============================] - 0s 18ms/step - loss: 108.6226 - mean_absolute_error: 3.9846 - val_loss: 112.4722 - val_mean_absolute_error: 4.2071\n",
            "Epoch 71/1000\n",
            "4/4 [==============================] - 0s 17ms/step - loss: 110.4402 - mean_absolute_error: 4.0895 - val_loss: 110.8434 - val_mean_absolute_error: 4.1184\n",
            "Epoch 72/1000\n",
            "4/4 [==============================] - 0s 19ms/step - loss: 109.2692 - mean_absolute_error: 4.0430 - val_loss: 111.1489 - val_mean_absolute_error: 4.3385\n",
            "Epoch 73/1000\n",
            "4/4 [==============================] - 0s 17ms/step - loss: 110.2414 - mean_absolute_error: 4.1807 - val_loss: 111.7618 - val_mean_absolute_error: 4.2788\n",
            "Epoch 74/1000\n",
            "4/4 [==============================] - 0s 18ms/step - loss: 110.0999 - mean_absolute_error: 4.1805 - val_loss: 110.6469 - val_mean_absolute_error: 4.0807\n",
            "Epoch 75/1000\n",
            "4/4 [==============================] - 0s 16ms/step - loss: 109.9367 - mean_absolute_error: 4.0845 - val_loss: 111.5940 - val_mean_absolute_error: 4.1854\n",
            "Epoch 76/1000\n",
            "4/4 [==============================] - 0s 17ms/step - loss: 110.3231 - mean_absolute_error: 4.1070 - val_loss: 111.9175 - val_mean_absolute_error: 4.1090\n",
            "Epoch 77/1000\n",
            "4/4 [==============================] - 0s 20ms/step - loss: 109.8562 - mean_absolute_error: 4.0743 - val_loss: 109.8280 - val_mean_absolute_error: 4.0517\n",
            "Epoch 78/1000\n",
            "4/4 [==============================] - 0s 17ms/step - loss: 109.3474 - mean_absolute_error: 4.0065 - val_loss: 111.4719 - val_mean_absolute_error: 4.0688\n",
            "Epoch 79/1000\n",
            "4/4 [==============================] - 0s 19ms/step - loss: 109.4061 - mean_absolute_error: 3.9678 - val_loss: 110.3532 - val_mean_absolute_error: 4.2029\n",
            "Epoch 80/1000\n",
            "4/4 [==============================] - 0s 17ms/step - loss: 110.2065 - mean_absolute_error: 4.0415 - val_loss: 110.7523 - val_mean_absolute_error: 4.2993\n",
            "Epoch 81/1000\n",
            "4/4 [==============================] - 0s 17ms/step - loss: 110.1407 - mean_absolute_error: 4.0480 - val_loss: 111.3224 - val_mean_absolute_error: 4.2580\n",
            "Epoch 82/1000\n",
            "4/4 [==============================] - 0s 20ms/step - loss: 109.9660 - mean_absolute_error: 4.0778 - val_loss: 111.9868 - val_mean_absolute_error: 4.2545\n",
            "Epoch 83/1000\n",
            "4/4 [==============================] - 0s 18ms/step - loss: 109.4031 - mean_absolute_error: 4.0282 - val_loss: 109.9225 - val_mean_absolute_error: 4.0910\n",
            "Epoch 84/1000\n",
            "4/4 [==============================] - 0s 18ms/step - loss: 110.4314 - mean_absolute_error: 4.1641 - val_loss: 109.1393 - val_mean_absolute_error: 4.1510\n",
            "Epoch 85/1000\n",
            "4/4 [==============================] - 0s 18ms/step - loss: 109.8860 - mean_absolute_error: 4.0609 - val_loss: 110.2150 - val_mean_absolute_error: 4.1626\n",
            "Epoch 86/1000\n",
            "4/4 [==============================] - 0s 17ms/step - loss: 110.5121 - mean_absolute_error: 4.2120 - val_loss: 111.8717 - val_mean_absolute_error: 4.2939\n",
            "Epoch 87/1000\n",
            "4/4 [==============================] - 0s 19ms/step - loss: 109.2804 - mean_absolute_error: 4.1088 - val_loss: 109.6572 - val_mean_absolute_error: 4.1658\n",
            "Epoch 88/1000\n",
            "4/4 [==============================] - 0s 20ms/step - loss: 109.3918 - mean_absolute_error: 4.1139 - val_loss: 110.2778 - val_mean_absolute_error: 4.1838\n",
            "Epoch 89/1000\n",
            "4/4 [==============================] - 0s 18ms/step - loss: 109.9826 - mean_absolute_error: 4.1082 - val_loss: 111.2008 - val_mean_absolute_error: 4.4234\n",
            "Epoch 90/1000\n",
            "4/4 [==============================] - 0s 20ms/step - loss: 110.0863 - mean_absolute_error: 4.1478 - val_loss: 111.0147 - val_mean_absolute_error: 4.1204\n",
            "Epoch 91/1000\n",
            "4/4 [==============================] - 0s 22ms/step - loss: 110.6659 - mean_absolute_error: 4.0537 - val_loss: 112.5231 - val_mean_absolute_error: 4.2639\n",
            "Epoch 92/1000\n",
            "4/4 [==============================] - 0s 19ms/step - loss: 111.2867 - mean_absolute_error: 4.2889 - val_loss: 112.5611 - val_mean_absolute_error: 4.6106\n",
            "Epoch 93/1000\n",
            "4/4 [==============================] - 0s 18ms/step - loss: 112.0318 - mean_absolute_error: 4.4173 - val_loss: 112.4584 - val_mean_absolute_error: 4.3973\n",
            "Epoch 94/1000\n",
            "4/4 [==============================] - 0s 19ms/step - loss: 111.5628 - mean_absolute_error: 4.3446 - val_loss: 110.9792 - val_mean_absolute_error: 4.2147\n",
            "Epoch 95/1000\n",
            "4/4 [==============================] - 0s 20ms/step - loss: 110.5937 - mean_absolute_error: 4.1799 - val_loss: 111.9018 - val_mean_absolute_error: 4.4131\n",
            "Epoch 96/1000\n",
            "4/4 [==============================] - 0s 18ms/step - loss: 110.5046 - mean_absolute_error: 4.2754 - val_loss: 113.2668 - val_mean_absolute_error: 4.4055\n",
            "Epoch 97/1000\n",
            "4/4 [==============================] - 0s 16ms/step - loss: 111.7073 - mean_absolute_error: 4.3271 - val_loss: 112.1097 - val_mean_absolute_error: 4.3518\n",
            "Epoch 98/1000\n",
            "4/4 [==============================] - 0s 17ms/step - loss: 110.9084 - mean_absolute_error: 4.2519 - val_loss: 112.2355 - val_mean_absolute_error: 4.4648\n",
            "Epoch 99/1000\n",
            "4/4 [==============================] - 0s 19ms/step - loss: 111.9368 - mean_absolute_error: 4.3964 - val_loss: 114.9272 - val_mean_absolute_error: 4.6114\n",
            "Epoch 100/1000\n",
            "4/4 [==============================] - 0s 18ms/step - loss: 112.7561 - mean_absolute_error: 4.4849 - val_loss: 109.8195 - val_mean_absolute_error: 4.0357\n",
            "Epoch 101/1000\n",
            "4/4 [==============================] - 0s 20ms/step - loss: 111.9329 - mean_absolute_error: 4.1934 - val_loss: 110.7944 - val_mean_absolute_error: 4.1834\n",
            "Epoch 102/1000\n",
            "4/4 [==============================] - 0s 18ms/step - loss: 110.5791 - mean_absolute_error: 4.2021 - val_loss: 115.8441 - val_mean_absolute_error: 4.7161\n",
            "Epoch 103/1000\n",
            "4/4 [==============================] - 0s 22ms/step - loss: 113.7015 - mean_absolute_error: 4.5666 - val_loss: 113.2629 - val_mean_absolute_error: 4.5948\n",
            "Epoch 104/1000\n",
            "4/4 [==============================] - 0s 17ms/step - loss: 113.9724 - mean_absolute_error: 4.5683 - val_loss: 109.9077 - val_mean_absolute_error: 4.1532\n",
            "Epoch 105/1000\n",
            "4/4 [==============================] - 0s 18ms/step - loss: 111.1912 - mean_absolute_error: 4.2719 - val_loss: 113.2773 - val_mean_absolute_error: 4.4900\n",
            "Epoch 106/1000\n",
            "4/4 [==============================] - 0s 19ms/step - loss: 113.6653 - mean_absolute_error: 4.5476 - val_loss: 112.2296 - val_mean_absolute_error: 4.5403\n",
            "Epoch 107/1000\n",
            "4/4 [==============================] - 0s 20ms/step - loss: 111.5853 - mean_absolute_error: 4.3797 - val_loss: 118.5674 - val_mean_absolute_error: 4.9756\n",
            "Epoch 108/1000\n",
            "4/4 [==============================] - 0s 17ms/step - loss: 113.7290 - mean_absolute_error: 4.6219 - val_loss: 110.8429 - val_mean_absolute_error: 4.2222\n",
            "Epoch 109/1000\n",
            "4/4 [==============================] - 0s 17ms/step - loss: 111.1104 - mean_absolute_error: 4.2539 - val_loss: 110.5266 - val_mean_absolute_error: 4.1496\n",
            "Epoch 110/1000\n",
            "4/4 [==============================] - 0s 18ms/step - loss: 111.0273 - mean_absolute_error: 4.2612 - val_loss: 110.5433 - val_mean_absolute_error: 4.1693\n",
            "Epoch 111/1000\n",
            "4/4 [==============================] - 0s 19ms/step - loss: 110.9669 - mean_absolute_error: 4.2630 - val_loss: 111.1041 - val_mean_absolute_error: 4.1871\n",
            "Epoch 112/1000\n",
            "4/4 [==============================] - 0s 19ms/step - loss: 109.4432 - mean_absolute_error: 4.0416 - val_loss: 110.1759 - val_mean_absolute_error: 4.0608\n",
            "Epoch 113/1000\n",
            "4/4 [==============================] - 0s 17ms/step - loss: 109.6317 - mean_absolute_error: 4.0274 - val_loss: 109.5412 - val_mean_absolute_error: 4.0368\n",
            "Epoch 114/1000\n",
            "4/4 [==============================] - 0s 18ms/step - loss: 109.3675 - mean_absolute_error: 4.0327 - val_loss: 110.4143 - val_mean_absolute_error: 4.0995\n",
            "Epoch 115/1000\n",
            "4/4 [==============================] - 0s 19ms/step - loss: 109.2856 - mean_absolute_error: 3.9673 - val_loss: 113.5774 - val_mean_absolute_error: 4.5464\n",
            "Epoch 116/1000\n",
            "4/4 [==============================] - 0s 18ms/step - loss: 111.1797 - mean_absolute_error: 4.2639 - val_loss: 111.8330 - val_mean_absolute_error: 4.3162\n",
            "Epoch 117/1000\n",
            "4/4 [==============================] - 0s 20ms/step - loss: 110.6088 - mean_absolute_error: 4.1755 - val_loss: 115.3485 - val_mean_absolute_error: 4.8502\n",
            "Epoch 118/1000\n",
            "4/4 [==============================] - 0s 20ms/step - loss: 111.6079 - mean_absolute_error: 4.3738 - val_loss: 111.2244 - val_mean_absolute_error: 4.3752\n",
            "Epoch 119/1000\n",
            "4/4 [==============================] - 0s 17ms/step - loss: 110.2532 - mean_absolute_error: 4.1241 - val_loss: 111.1821 - val_mean_absolute_error: 4.3487\n",
            "Epoch 120/1000\n",
            "4/4 [==============================] - 0s 17ms/step - loss: 110.4049 - mean_absolute_error: 4.2147 - val_loss: 110.4852 - val_mean_absolute_error: 4.0293\n",
            "Epoch 121/1000\n",
            "4/4 [==============================] - 0s 17ms/step - loss: 109.4105 - mean_absolute_error: 4.0102 - val_loss: 109.9761 - val_mean_absolute_error: 4.1721\n",
            "Epoch 122/1000\n",
            "4/4 [==============================] - 0s 19ms/step - loss: 111.2119 - mean_absolute_error: 4.2104 - val_loss: 111.5063 - val_mean_absolute_error: 4.1440\n",
            "Epoch 123/1000\n",
            "4/4 [==============================] - 0s 19ms/step - loss: 109.3889 - mean_absolute_error: 4.1294 - val_loss: 111.9389 - val_mean_absolute_error: 4.2711\n",
            "Epoch 124/1000\n",
            "4/4 [==============================] - 0s 17ms/step - loss: 110.1803 - mean_absolute_error: 4.1440 - val_loss: 109.9289 - val_mean_absolute_error: 4.0989\n",
            "Epoch 125/1000\n",
            "4/4 [==============================] - 0s 18ms/step - loss: 109.1687 - mean_absolute_error: 4.0039 - val_loss: 109.2557 - val_mean_absolute_error: 4.0600\n",
            "Epoch 126/1000\n",
            "4/4 [==============================] - 0s 17ms/step - loss: 109.4957 - mean_absolute_error: 4.0594 - val_loss: 112.0844 - val_mean_absolute_error: 4.3977\n",
            "Epoch 127/1000\n",
            "4/4 [==============================] - 0s 18ms/step - loss: 110.4185 - mean_absolute_error: 4.1827 - val_loss: 112.9841 - val_mean_absolute_error: 4.4482\n",
            "Epoch 128/1000\n",
            "4/4 [==============================] - 0s 19ms/step - loss: 111.1790 - mean_absolute_error: 4.2986 - val_loss: 116.9318 - val_mean_absolute_error: 4.9128\n",
            "Epoch 129/1000\n",
            "4/4 [==============================] - 0s 19ms/step - loss: 113.2912 - mean_absolute_error: 4.5348 - val_loss: 121.3162 - val_mean_absolute_error: 5.2030\n",
            "Epoch 130/1000\n",
            "4/4 [==============================] - 0s 21ms/step - loss: 115.0104 - mean_absolute_error: 4.6710 - val_loss: 116.2728 - val_mean_absolute_error: 4.7410\n",
            "Epoch 131/1000\n",
            "4/4 [==============================] - 0s 18ms/step - loss: 113.0729 - mean_absolute_error: 4.4373 - val_loss: 113.2228 - val_mean_absolute_error: 4.5700\n",
            "Epoch 132/1000\n",
            "4/4 [==============================] - 0s 18ms/step - loss: 110.8940 - mean_absolute_error: 4.1901 - val_loss: 110.1038 - val_mean_absolute_error: 4.0553\n",
            "Epoch 133/1000\n",
            "4/4 [==============================] - 0s 19ms/step - loss: 108.9074 - mean_absolute_error: 3.9861 - val_loss: 109.5760 - val_mean_absolute_error: 4.0109\n",
            "Epoch 134/1000\n",
            "4/4 [==============================] - 0s 17ms/step - loss: 108.7770 - mean_absolute_error: 3.9172 - val_loss: 110.1295 - val_mean_absolute_error: 4.1196\n"
          ]
        }
      ]
    },
    {
      "cell_type": "code",
      "source": [
        "score=model.evaluate(x_test,y_test,verbose=0)\n",
        "print('Test loss:',score[0])\n",
        "print('Test mae:',score[1])"
      ],
      "metadata": {
        "colab": {
          "base_uri": "https://localhost:8080/"
        },
        "id": "2GyJOBlRrLly",
        "outputId": "4c0b4d0b-4ad6-48bf-ca11-57833b4b8055"
      },
      "execution_count": null,
      "outputs": [
        {
          "output_type": "stream",
          "name": "stdout",
          "text": [
            "Test loss: 151.00669860839844\n",
            "Test mae: 4.701653480529785\n"
          ]
        }
      ]
    },
    {
      "cell_type": "code",
      "source": [
        "plt.plot(history.history['mean_absolute_error'])\n",
        "plt.plot(history.history['val_mean_absolute_error'])\n",
        "plt.title('MODEL MEAN ABSOLUTE ERROR')\n",
        "plt.ylabel('Mean absolute error')\n",
        "plt.xlabel('Epoch')\n",
        "plt.legend(['Train','Validation'])\n",
        "plt.show()"
      ],
      "metadata": {
        "colab": {
          "base_uri": "https://localhost:8080/",
          "height": 295
        },
        "id": "K3aSt0fYrNUk",
        "outputId": "170f4790-3e91-4ca1-950a-8e878b1bbd20"
      },
      "execution_count": null,
      "outputs": [
        {
          "output_type": "display_data",
          "data": {
            "text/plain": [
              "<Figure size 432x288 with 1 Axes>"
            ],
            "image/png": "[encoded data removed]"
          },
          "metadata": {
            "needs_background": "light"
          }
        }
      ]
    },
    {
      "cell_type": "code",
      "source": [
        "y_pred=model.predict(x_test)"
      ],
      "metadata": {
        "id": "-NKo-4ZNBQpo"
      },
      "execution_count": null,
      "outputs": []
    },
    {
      "cell_type": "code",
      "source": [
        "y_pred[300]"
      ],
      "metadata": {
        "id": "c8Cq2YeRCDBt",
        "outputId": "754cd59a-aa59-470b-a627-d2cd164dffb6",
        "colab": {
          "base_uri": "https://localhost:8080/"
        }
      },
      "execution_count": null,
      "outputs": [
        {
          "output_type": "execute_result",
          "data": {
            "text/plain": [
              "array([ 136.14012,  179.13745, -136.38118], dtype=float32)"
            ]
          },
          "metadata": {},
          "execution_count": 113
        }
      ]
    },
    {
      "cell_type": "code",
      "source": [
        "y_test[300]"
      ],
      "metadata": {
        "id": "luHiM9PoCEZU",
        "outputId": "70d16502-75c5-43e5-ed78-3ef67f2fb470",
        "colab": {
          "base_uri": "https://localhost:8080/"
        }
      },
      "execution_count": null,
      "outputs": [
        {
          "output_type": "execute_result",
          "data": {
            "text/plain": [
              "array([ 124.,  176., -120.])"
            ]
          },
          "metadata": {},
          "execution_count": 114
        }
      ]
    },
    {
      "cell_type": "code",
      "source": [
        ""
      ],
      "metadata": {
        "id": "h8auVZogCF1-"
      },
      "execution_count": null,
      "outputs": []
    }
  ]
}