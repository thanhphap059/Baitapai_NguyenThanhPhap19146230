{
  "cells": [
    {
      "cell_type": "markdown",
      "metadata": {
        "id": "view-in-github",
        "colab_type": "text"
      },
      "source": [
        "<a href=\"https://colab.research.google.com/github/thanhphap059/NguyenThanhPhap19146230/blob/main/NHAN_DIEN_NGUOI.ipynb\" target=\"_parent\"><img src=\"https://colab.research.google.com/assets/colab-badge.svg\" alt=\"Open In Colab\"/></a>"
      ]
    },
    {
      "cell_type": "code",
      "execution_count": null,
      "metadata": {
        "id": "UNUEK-frCGWn"
      },
      "outputs": [],
      "source": [
        "#BÀI 4: NHẬN DIỆN NGƯỜI\n",
        "#Tên: Nguyễn Thanh Pháp\n",
        "#MSSV: 19146230\n",
        "# Khai báo và sử dụng các thư viện sau\n",
        "from sklearn.model_selection import train_test_split\n",
        "import matplotlib.pyplot as plt\n",
        "import numpy as np\n",
        "import tensorflow as tf\n",
        "from keras.utils import np_utils\n",
        "from keras.models import Sequential\n",
        "from keras.layers import Dense, Activation, Dropout, Conv2D, MaxPooling2D, Flatten\n",
        "from tensorflow.keras.optimizers import SGD, RMSprop\n",
        "from keras.callbacks import EarlyStopping, ModelCheckpoint\n",
        "from sklearn.utils import validation \n",
        "from sklearn import preprocessing\n",
        "from tensorflow.keras.utils import to_categorical\n",
        "from tensorflow.keras.models import load_model\n",
        "from tensorflow.keras.utils import load_img, img_to_array\n",
        "from tensorflow.keras.preprocessing.image import ImageDataGenerator\n"
      ]
    },
    {
      "cell_type": "code",
      "execution_count": null,
      "metadata": {
        "colab": {
          "base_uri": "https://localhost:8080/"
        },
        "id": "6fuIP16QCSX6",
        "outputId": "4f849d28-d1a0-4a57-ba8a-3230df45a2b2"
      },
      "outputs": [
        {
          "output_type": "stream",
          "name": "stdout",
          "text": [
            "/content/drive/MyDrive/Colab Notebooks/BTW13/NHAN_DIEN_NGUOI\n"
          ]
        }
      ],
      "source": [
        "# Chuyển đến file Google Drive chứa bộ ảnh đã tạo\n",
        "%cd\"/content/drive/MyDrive/Colab Notebooks/BTW13/NHAN_DIEN_NGUOI/\""
      ]
    },
    {
      "cell_type": "code",
      "execution_count": null,
      "metadata": {
        "id": "oTHFSKVCCi_C"
      },
      "outputs": [],
      "source": [
        "# Tạo ra class ImageDataGenerator để chỉnh sửa ảnh \n",
        "train_datagen=ImageDataGenerator(rescale=1./255, shear_range=0.2, zoom_range=0.2, horizontal_flip=True)"
      ]
    },
    {
      "cell_type": "code",
      "execution_count": null,
      "metadata": {
        "colab": {
          "base_uri": "https://localhost:8080/"
        },
        "id": "G4ebOKWRCogj",
        "outputId": "4dc4fcbb-04f2-428a-8c25-f82e8b12f52d"
      },
      "outputs": [
        {
          "output_type": "stream",
          "name": "stdout",
          "text": [
            "Found 149 images belonging to 3 classes.\n"
          ]
        }
      ],
      "source": [
        "# Tạo bộ dữ liệu training set\n",
        "training_set=train_datagen.flow_from_directory('/content/drive/MyDrive/Colab Notebooks/BTW13/NHAN_DIEN_NGUOI/training_set',target_size=(256,256), batch_size=32, class_mode='categorical')"
      ]
    },
    {
      "cell_type": "code",
      "execution_count": null,
      "metadata": {
        "colab": {
          "base_uri": "https://localhost:8080/"
        },
        "id": "mB-X-nA8Ctsm",
        "outputId": "aeef5dc0-074b-4823-f5fc-c86f68b28b79"
      },
      "outputs": [
        {
          "output_type": "stream",
          "name": "stdout",
          "text": [
            "Found 24 images belonging to 3 classes.\n"
          ]
        }
      ],
      "source": [
        "# Tạo bộ dữ liệu validation\n",
        "validation=train_datagen.flow_from_directory('/content/drive/MyDrive/Colab Notebooks/BTW13/NHAN_DIEN_NGUOI/validation',target_size=(256,256), batch_size=32, class_mode='categorical')"
      ]
    },
    {
      "cell_type": "code",
      "execution_count": null,
      "metadata": {
        "colab": {
          "base_uri": "https://localhost:8080/"
        },
        "id": "oSKEbeXvD08E",
        "outputId": "79652d41-7bb1-4351-b9fa-649c2047fb8c"
      },
      "outputs": [
        {
          "output_type": "execute_result",
          "data": {
            "text/plain": [
              "{'DANH': 0, 'NHAN': 1, 'PHAP': 2}"
            ]
          },
          "metadata": {},
          "execution_count": 29
        }
      ],
      "source": [
        "# Các nhãn có trong bộ dữ liệu training set\n",
        "training_set.class_indices"
      ]
    },
    {
      "cell_type": "code",
      "execution_count": null,
      "metadata": {
        "colab": {
          "base_uri": "https://localhost:8080/"
        },
        "id": "f6yjnlXtD6zE",
        "outputId": "09bb2416-fce7-414a-f9b2-2f49b102f930"
      },
      "outputs": [
        {
          "output_type": "execute_result",
          "data": {
            "text/plain": [
              "{'DANH': 0, 'NHAN': 1, 'PHAP': 2}"
            ]
          },
          "metadata": {},
          "execution_count": 30
        }
      ],
      "source": [
        "# Các nhãn có trong bộ dữ liệu validation\n",
        "validation.class_indices"
      ]
    },
    {
      "cell_type": "code",
      "execution_count": null,
      "metadata": {
        "colab": {
          "base_uri": "https://localhost:8080/"
        },
        "id": "aif-IWOaD8ep",
        "outputId": "3f1d9936-06a2-4c1f-94ce-4bbe0a78f3b5"
      },
      "outputs": [
        {
          "output_type": "stream",
          "name": "stdout",
          "text": [
            "Model: \"sequential_1\"\n",
            "_________________________________________________________________\n",
            " Layer (type)                Output Shape              Param #   \n",
            "=================================================================\n",
            " conv2d_6 (Conv2D)           (None, 256, 256, 32)      896       \n",
            "                                                                 \n",
            " conv2d_7 (Conv2D)           (None, 256, 256, 32)      9248      \n",
            "                                                                 \n",
            " max_pooling2d_3 (MaxPooling  (None, 128, 128, 32)     0         \n",
            " 2D)                                                             \n",
            "                                                                 \n",
            " conv2d_8 (Conv2D)           (None, 128, 128, 64)      18496     \n",
            "                                                                 \n",
            " conv2d_9 (Conv2D)           (None, 128, 128, 64)      36928     \n",
            "                                                                 \n",
            " max_pooling2d_4 (MaxPooling  (None, 64, 64, 64)       0         \n",
            " 2D)                                                             \n",
            "                                                                 \n",
            " conv2d_10 (Conv2D)          (None, 64, 64, 128)       73856     \n",
            "                                                                 \n",
            " conv2d_11 (Conv2D)          (None, 64, 64, 128)       147584    \n",
            "                                                                 \n",
            " max_pooling2d_5 (MaxPooling  (None, 32, 32, 128)      0         \n",
            " 2D)                                                             \n",
            "                                                                 \n",
            " flatten_1 (Flatten)         (None, 131072)            0         \n",
            "                                                                 \n",
            " dense_2 (Dense)             (None, 128)               16777344  \n",
            "                                                                 \n",
            " dropout_1 (Dropout)         (None, 128)               0         \n",
            "                                                                 \n",
            " dense_3 (Dense)             (None, 3)                 387       \n",
            "                                                                 \n",
            "=================================================================\n",
            "Total params: 17,064,739\n",
            "Trainable params: 17,064,739\n",
            "Non-trainable params: 0\n",
            "_________________________________________________________________\n"
          ]
        }
      ],
      "source": [
        "# Tạo ra mạng CNN để train mô hình\n",
        "model=Sequential()\n",
        "# Tích chập 32 lần với mỗi lần là 3 hàng 3 cột\n",
        "model.add(Conv2D(32,(3,3), activation='relu', kernel_initializer='he_uniform', padding='same',input_shape=(256,256,3))) \n",
        "model.add(Conv2D(32,(3,3), activation='relu', kernel_initializer='he_uniform', padding='same'))\n",
        "# Lấy phần tử lớn nhất ở trong 2 hàng và 2 cột\n",
        "model.add(MaxPooling2D(2,2))\n",
        "# Tích chập 64 lần với mỗi lần là 3 hàng 3 cột\n",
        "model.add(Conv2D(64,(3,3), activation='relu', kernel_initializer='he_uniform', padding='same',input_shape=(256,256,3))) \n",
        "model.add(Conv2D(64,(3,3), activation='relu', kernel_initializer='he_uniform', padding='same'))\n",
        "# Lấy phần tử lớn nhất ở trong 2 hàng và 2 cột\n",
        "model.add(MaxPooling2D(2,2))\n",
        "# Tích chập 128 lần với mỗi lần là 3 hàng 3 cột\n",
        "model.add(Conv2D(128,(3,3), activation='relu', kernel_initializer='he_uniform', padding='same',input_shape=(256,256,3))) \n",
        "model.add(Conv2D(128,(3,3), activation='relu', kernel_initializer='he_uniform', padding='same'))\n",
        "# Lấy phần tử lớn nhất ở trong 2 hàng và 2 cột\n",
        "model.add(MaxPooling2D(2,2))\n",
        "# Duỗi thẳng dữ liệu \n",
        "model.add(Flatten())\n",
        "# Tạo lớp ẩn thứ nhất với 128 tín hiệu ra\n",
        "model.add(Dense(128,activation='relu',kernel_initializer='he_uniform'))\n",
        "model.add(Dropout(0.2))\n",
        "# Tạo lớp ẩn thứ hai với 3 tín hiệu ra\n",
        "model.add(Dense(3,activation='softmax'))\n",
        "model.summary()"
      ]
    },
    {
      "cell_type": "code",
      "execution_count": null,
      "metadata": {
        "colab": {
          "base_uri": "https://localhost:8080/"
        },
        "id": "Q55lZvn8D_JN",
        "outputId": "ae7ca40a-72a5-4798-e324-61ea08af0dd9"
      },
      "outputs": [
        {
          "output_type": "stream",
          "name": "stdout",
          "text": [
            "Epoch 1/100\n",
            "5/5 [==============================] - 74s 14s/step - loss: 21.1323 - accuracy: 0.3087 - val_loss: 4.7916 - val_accuracy: 0.3333\n",
            "Epoch 2/100\n",
            "5/5 [==============================] - 71s 13s/step - loss: 2.1297 - accuracy: 0.3356 - val_loss: 1.0758 - val_accuracy: 0.3333\n",
            "Epoch 3/100\n",
            "5/5 [==============================] - 71s 13s/step - loss: 1.0620 - accuracy: 0.4027 - val_loss: 1.0154 - val_accuracy: 0.3750\n",
            "Epoch 4/100\n",
            "5/5 [==============================] - 71s 15s/step - loss: 0.8851 - accuracy: 0.6510 - val_loss: 0.8558 - val_accuracy: 0.4583\n",
            "Epoch 5/100\n",
            "5/5 [==============================] - 71s 13s/step - loss: 0.6282 - accuracy: 0.7718 - val_loss: 0.7275 - val_accuracy: 0.6250\n",
            "Epoch 6/100\n",
            "5/5 [==============================] - 71s 14s/step - loss: 0.4527 - accuracy: 0.8322 - val_loss: 0.4686 - val_accuracy: 0.7500\n",
            "Epoch 7/100\n",
            "5/5 [==============================] - 71s 13s/step - loss: 0.3375 - accuracy: 0.8658 - val_loss: 0.5112 - val_accuracy: 0.7917\n",
            "Epoch 8/100\n",
            "5/5 [==============================] - 71s 14s/step - loss: 0.2868 - accuracy: 0.8993 - val_loss: 0.6570 - val_accuracy: 0.8333\n",
            "Epoch 9/100\n",
            "5/5 [==============================] - 71s 13s/step - loss: 0.2012 - accuracy: 0.9128 - val_loss: 0.1745 - val_accuracy: 0.9167\n",
            "Epoch 10/100\n",
            "5/5 [==============================] - 71s 13s/step - loss: 0.1174 - accuracy: 0.9664 - val_loss: 0.1208 - val_accuracy: 0.9583\n",
            "Epoch 11/100\n",
            "5/5 [==============================] - 70s 15s/step - loss: 0.0606 - accuracy: 0.9866 - val_loss: 0.0469 - val_accuracy: 1.0000\n",
            "Epoch 12/100\n",
            "5/5 [==============================] - 71s 14s/step - loss: 0.1091 - accuracy: 0.9597 - val_loss: 0.1297 - val_accuracy: 1.0000\n",
            "Epoch 13/100\n",
            "5/5 [==============================] - 71s 13s/step - loss: 0.1098 - accuracy: 0.9664 - val_loss: 0.0627 - val_accuracy: 1.0000\n",
            "Epoch 14/100\n",
            "5/5 [==============================] - 71s 13s/step - loss: 0.0349 - accuracy: 0.9933 - val_loss: 0.1252 - val_accuracy: 0.9583\n",
            "Epoch 15/100\n",
            "5/5 [==============================] - 71s 13s/step - loss: 0.0544 - accuracy: 0.9799 - val_loss: 0.5152 - val_accuracy: 0.7917\n",
            "Epoch 16/100\n",
            "5/5 [==============================] - 71s 13s/step - loss: 0.0928 - accuracy: 0.9664 - val_loss: 0.1036 - val_accuracy: 1.0000\n",
            "Epoch 17/100\n",
            "5/5 [==============================] - 71s 13s/step - loss: 0.0767 - accuracy: 0.9530 - val_loss: 0.1140 - val_accuracy: 0.9583\n",
            "Epoch 18/100\n",
            "5/5 [==============================] - 71s 15s/step - loss: 0.0699 - accuracy: 0.9732 - val_loss: 0.0621 - val_accuracy: 0.9583\n",
            "Epoch 19/100\n",
            "5/5 [==============================] - 71s 13s/step - loss: 0.0475 - accuracy: 0.9933 - val_loss: 0.0865 - val_accuracy: 0.9583\n",
            "Epoch 20/100\n",
            "5/5 [==============================] - 79s 16s/step - loss: 0.0508 - accuracy: 0.9933 - val_loss: 0.0010 - val_accuracy: 1.0000\n",
            "Epoch 21/100\n",
            "5/5 [==============================] - 72s 14s/step - loss: 0.0073 - accuracy: 1.0000 - val_loss: 0.0189 - val_accuracy: 1.0000\n",
            "Epoch 22/100\n",
            "5/5 [==============================] - 71s 14s/step - loss: 0.0446 - accuracy: 0.9933 - val_loss: 0.0052 - val_accuracy: 1.0000\n",
            "Epoch 23/100\n",
            "5/5 [==============================] - 71s 14s/step - loss: 0.0188 - accuracy: 0.9933 - val_loss: 4.6459e-04 - val_accuracy: 1.0000\n",
            "Epoch 24/100\n",
            "5/5 [==============================] - 71s 14s/step - loss: 0.0279 - accuracy: 0.9866 - val_loss: 0.0296 - val_accuracy: 1.0000\n",
            "Epoch 25/100\n",
            "5/5 [==============================] - 71s 14s/step - loss: 0.9428 - accuracy: 0.8591 - val_loss: 0.1583 - val_accuracy: 1.0000\n",
            "Epoch 26/100\n",
            "5/5 [==============================] - 71s 13s/step - loss: 0.2783 - accuracy: 0.8792 - val_loss: 0.7208 - val_accuracy: 0.8750\n",
            "Epoch 27/100\n",
            "5/5 [==============================] - 71s 14s/step - loss: 0.2954 - accuracy: 0.8993 - val_loss: 0.2890 - val_accuracy: 0.9167\n",
            "Epoch 28/100\n",
            "5/5 [==============================] - 71s 14s/step - loss: 0.1925 - accuracy: 0.9396 - val_loss: 0.1639 - val_accuracy: 0.9583\n",
            "Epoch 29/100\n",
            "5/5 [==============================] - 70s 14s/step - loss: 0.1485 - accuracy: 0.9530 - val_loss: 0.1401 - val_accuracy: 0.9583\n",
            "Epoch 30/100\n",
            "5/5 [==============================] - 71s 13s/step - loss: 0.1786 - accuracy: 0.9396 - val_loss: 0.0334 - val_accuracy: 1.0000\n",
            "Epoch 31/100\n",
            "5/5 [==============================] - 71s 13s/step - loss: 0.1063 - accuracy: 0.9732 - val_loss: 0.0976 - val_accuracy: 0.9583\n",
            "Epoch 32/100\n",
            "5/5 [==============================] - 71s 13s/step - loss: 0.1371 - accuracy: 0.9664 - val_loss: 0.2167 - val_accuracy: 0.9583\n",
            "Epoch 33/100\n",
            "5/5 [==============================] - 71s 13s/step - loss: 0.1600 - accuracy: 0.9396 - val_loss: 0.6992 - val_accuracy: 0.6667\n",
            "Epoch 34/100\n",
            "5/5 [==============================] - 70s 14s/step - loss: 0.4230 - accuracy: 0.8993 - val_loss: 0.5067 - val_accuracy: 0.7917\n",
            "Epoch 35/100\n",
            "5/5 [==============================] - 71s 13s/step - loss: 0.2864 - accuracy: 0.8926 - val_loss: 0.8494 - val_accuracy: 0.7500\n",
            "Epoch 36/100\n",
            "5/5 [==============================] - 70s 13s/step - loss: 0.3183 - accuracy: 0.8993 - val_loss: 0.4903 - val_accuracy: 0.8333\n",
            "Epoch 37/100\n",
            "5/5 [==============================] - 71s 13s/step - loss: 0.3654 - accuracy: 0.8926 - val_loss: 0.5058 - val_accuracy: 0.8333\n",
            "Epoch 38/100\n",
            "5/5 [==============================] - 70s 14s/step - loss: 0.2415 - accuracy: 0.8926 - val_loss: 0.2784 - val_accuracy: 0.8750\n",
            "Epoch 39/100\n",
            "5/5 [==============================] - 71s 13s/step - loss: 0.2799 - accuracy: 0.9060 - val_loss: 0.1604 - val_accuracy: 0.9167\n",
            "Epoch 40/100\n",
            "5/5 [==============================] - 71s 14s/step - loss: 0.1027 - accuracy: 0.9732 - val_loss: 0.1282 - val_accuracy: 0.9583\n",
            "Epoch 41/100\n",
            "5/5 [==============================] - 71s 13s/step - loss: 0.1823 - accuracy: 0.9463 - val_loss: 0.9529 - val_accuracy: 0.8750\n",
            "Epoch 42/100\n",
            "5/5 [==============================] - 71s 13s/step - loss: 0.0349 - accuracy: 0.9866 - val_loss: 0.0113 - val_accuracy: 1.0000\n",
            "Epoch 43/100\n",
            "5/5 [==============================] - 70s 13s/step - loss: 0.0550 - accuracy: 0.9732 - val_loss: 0.1271 - val_accuracy: 0.9583\n"
          ]
        }
      ],
      "source": [
        "# Biên dịch \n",
        "model.compile(optimizer='adam',loss='categorical_crossentropy',metrics=['accuracy'])\n",
        "# Gán biến lại để vẽ đồ thị, với 500 lần học (epochs), mỗi lần học thì chỉ học␣128 dữ liệu (batch_size), khi sai số không thay đổi trong 20 lần học thì sẽ␣ dừng học \n",
        "history=model.fit(training_set,epochs=100,batch_size=128,verbose=1, validation_data=validation, callbacks=[EarlyStopping(monitor='val_loss', patience=20)])"
      ]
    },
    {
      "cell_type": "code",
      "execution_count": null,
      "metadata": {
        "id": "tk1O6KE_LY4v",
        "colab": {
          "base_uri": "https://localhost:8080/"
        },
        "outputId": "ec6926c3-eaaa-4169-dd28-613ff7a63382"
      },
      "outputs": [
        {
          "output_type": "stream",
          "name": "stdout",
          "text": [
            "Train Loss 0.04975936561822891\n",
            "Train Accuracy 0.9798657894134521\n"
          ]
        }
      ],
      "source": [
        "# Đánh giá độ chính xác của mô hình \n",
        "Score=model.evaluate(training_set,verbose=0)\n",
        "print('Train Loss', Score[0])\n",
        "print('Train Accuracy', Score[1])"
      ]
    },
    {
      "cell_type": "code",
      "source": [
        "# Vẽ đồ thị giữa số lần học (Epochs) và độ chính xác (Accuracy)\n",
        "plt.plot(history.history['accuracy'])\n",
        "plt.plot(history.history['val_accuracy'])\n",
        "plt.title('Model Accuracy')\n",
        "plt.ylabel('Accuracy')\n",
        "plt.xlabel('Epochs')\n",
        "plt.legend(['Train','Validation'])\n",
        "plt.show"
      ],
      "metadata": {
        "id": "KwbAElhNnGKz",
        "colab": {
          "base_uri": "https://localhost:8080/",
          "height": 312
        },
        "outputId": "5ccdf225-e757-4d54-c6d4-f7c08bb85db3"
      },
      "execution_count": null,
      "outputs": [
        {
          "output_type": "execute_result",
          "data": {
            "text/plain": [
              "<function matplotlib.pyplot.show>"
            ]
          },
          "metadata": {},
          "execution_count": 14
        },
        {
          "output_type": "display_data",
          "data": {
            "text/plain": [
              "<Figure size 432x288 with 1 Axes>"
            ],
            "image/png": "[encoded data removed]"
          },
          "metadata": {
            "needs_background": "light"
          }
        }
      ]
    },
    {
      "cell_type": "code",
      "source": [
        "model.save(\"Nhan_dien_nguoi.h5\")"
      ],
      "metadata": {
        "id": "AJ86_C5COj2-"
      },
      "execution_count": null,
      "outputs": []
    },
    {
      "cell_type": "code",
      "source": [
        "model_nhandien=load_model('Nhan_dien_nguoi.h5')"
      ],
      "metadata": {
        "id": "mtMOnxbbOl4T"
      },
      "execution_count": null,
      "outputs": []
    },
    {
      "cell_type": "code",
      "source": [
        "# Kiểm tra hình của từng bạn với bộ dữ liệu test_set\n",
        "img=load_img(\"/content/drive/MyDrive/Colab Notebooks/BTW13/NHAN_DIEN_NGUOI/test_set/NHAN/Nhan (19).jpg\",target_size=(150,150))\n",
        "plt.imshow(img)\n",
        "img=img_to_array(img)\n",
        "img=img.astype('float32')\n",
        "img=img/255\n",
        "img=np.expand_dims(img,axis=0)\n",
        "result=model_nhandien.predict(img)\n",
        "if round(result[0][0])==1:\n",
        "  prediction='DAY LA PHAP'\n",
        "if round(result[0][1])==1:\n",
        "  prediction='DAY LA DANH'\n",
        "if round(result[0][2])==1:\n",
        "  prediction='DAY LA NHAN'\n",
        "print(prediction)\n",
        "\n"
      ],
      "metadata": {
        "id": "kydjDRIQK90Y"
      },
      "execution_count": null,
      "outputs": []
    },
    {
      "cell_type": "code",
      "source": [
        "img=load_img(\"/content/drive/MyDrive/Colab Notebooks/BTW13/NHAN_DIEN_NGUOI/test_set/DANH/Danh (9).jpg\",target_size=(150,150))\n",
        "plt.imshow(img)\n",
        "img=img_to_array(img)\n",
        "img=img.astype('float32')\n",
        "img=img/255\n",
        "img=np.expand_dims(img,axis=0)\n",
        "result=model_nhandien.predict(img)\n",
        "if round(result[0][0])==1:\n",
        "  prediction='DAY LA PHAP'\n",
        "if round(result[0][1])==1:\n",
        "  prediction='DAY LA DANH'\n",
        "if round(result[0][2])==1:\n",
        "  prediction='DAY LA NHAN'\n",
        "print(prediction)"
      ],
      "metadata": {
        "id": "XSpLz0mIMr1Z"
      },
      "execution_count": null,
      "outputs": []
    },
    {
      "cell_type": "code",
      "source": [
        "img=load_img(\"/content/drive/MyDrive/Colab Notebooks/BTW13/NHAN_DIEN_NGUOI/test_set/PHAP/Phap (5).jpg\",target_size=(150,150))\n",
        "plt.imshow(img)\n",
        "img=img_to_array(img)\n",
        "img=img.astype('float32')\n",
        "img=img/255\n",
        "img=np.expand_dims(img,axis=0)\n",
        "result=model_nhandien.predict(img)\n",
        "if round(result[0][0])==1:\n",
        "  prediction='DAY LA PHAP'\n",
        "if round(result[0][1])==1:\n",
        "  prediction='DAY LA DANH'\n",
        "if round(result[0][2])==1:\n",
        "  prediction='DAY LA NHAN'\n",
        "print(prediction)"
      ],
      "metadata": {
        "id": "eMDErYwjo4cz"
      },
      "execution_count": null,
      "outputs": []
    }
  ],
  "metadata": {
    "colab": {
      "name": "NHAN_DIEN_NGUOI",
      "provenance": [],
      "collapsed_sections": [],
      "mount_file_id": "1XDgh0Wht8ekK5wryn7bh3MxRA1b0TfLn",
      "authorship_tag": "ABX9TyOZJlTHZQfhOUWwT4MU29Wr",
      "include_colab_link": true
    },
    "kernelspec": {
      "display_name": "Python 3",
      "name": "python3"
    },
    "language_info": {
      "name": "python"
    }
  },
  "nbformat": 4,
  "nbformat_minor": 0
}