{
  "nbformat": 4,
  "nbformat_minor": 0,
  "metadata": {
    "colab": {
      "name": "NHAN_DIEN_KHUON_MAT",
      "provenance": [],
      "collapsed_sections": [],
      "mount_file_id": "1OvM4jeBmGUvLZPvuWD3zaopErFl3d4yf",
      "authorship_tag": "ABX9TyM+7yQRGmL5H+h2K5mR6SpA",
      "include_colab_link": true
    },
    "kernelspec": {
      "name": "python3",
      "display_name": "Python 3"
    },
    "language_info": {
      "name": "python"
    }
  },
  "cells": [
    {
      "cell_type": "markdown",
      "metadata": {
        "id": "view-in-github",
        "colab_type": "text"
      },
      "source": [
        "<a href=\"https://colab.research.google.com/github/thanhphap059/NguyenThanhPhap19146230/blob/main/NHAN_DIEN_KHUON_MAT.ipynb\" target=\"_parent\"><img src=\"https://colab.research.google.com/assets/colab-badge.svg\" alt=\"Open In Colab\"/></a>"
      ]
    },
    {
      "cell_type": "code",
      "execution_count": null,
      "metadata": {
        "id": "qERgtV5Qp2_W"
      },
      "outputs": [],
      "source": [
        "#BÀI 3:NHẬN DIỆN KHUÔN MẶT\n",
        "#Tên: Nguyễn Thanh Pháp\n",
        "#MSSV: 19146230\n",
        "# Khai báo và sử dụng các thư viện sau\n",
        "from sklearn.model_selection import train_test_split\n",
        "import matplotlib.pyplot as plt\n",
        "import numpy as np\n",
        "import tensorflow as tf\n",
        "from keras.utils import np_utils\n",
        "from keras.models import Sequential\n",
        "from keras.layers import Dense, Activation, Dropout, Conv2D, MaxPooling2D, Flatten\n",
        "from tensorflow.keras.optimizers import SGD, RMSprop\n",
        "from keras.callbacks import EarlyStopping\n",
        "from sklearn.utils import validation \n",
        "from sklearn import preprocessing\n",
        "from tensorflow.keras.utils import to_categorical\n",
        "from tensorflow.keras.models import load_model\n",
        "from tensorflow.keras.utils import load_img, img_to_array"
      ]
    },
    {
      "cell_type": "code",
      "source": [
        "from google.colab import drive\n",
        "drive.mount('/content/drive')"
      ],
      "metadata": {
        "colab": {
          "base_uri": "https://localhost:8080/"
        },
        "id": "X3tYOyvHFnsF",
        "outputId": "a55cfae1-11f6-4d95-f132-bd36b8bdacfd"
      },
      "execution_count": null,
      "outputs": [
        {
          "output_type": "stream",
          "name": "stdout",
          "text": [
            "Drive already mounted at /content/drive; to attempt to forcibly remount, call drive.mount(\"/content/drive\", force_remount=True).\n"
          ]
        }
      ]
    },
    {
      "cell_type": "code",
      "source": [
        "# Chuyển đến file Google Drive chứa bộ ảnh đã tạo\n",
        "%cd\"/content/drive/MyDrive/Colab Notebooks/BTW13/NHAN_DIEN_KHUON_MAT/Anh_khuon_mat\""
      ],
      "metadata": {
        "colab": {
          "base_uri": "https://localhost:8080/"
        },
        "id": "pzWtrGfJtUEo",
        "outputId": "af3212b9-7636-4a6e-c5dd-2797f4116e68"
      },
      "execution_count": null,
      "outputs": [
        {
          "output_type": "stream",
          "name": "stdout",
          "text": [
            "/content/drive/MyDrive/Colab Notebooks/BTW13/NHAN_DIEN_KHUON_MAT/Anh_khuon_mat\n"
          ]
        }
      ]
    },
    {
      "cell_type": "markdown",
      "source": [
        ""
      ],
      "metadata": {
        "id": "Zk1b6ParxnoA"
      }
    },
    {
      "cell_type": "code",
      "source": [
        "# Tạo ra class ImageDataGenerator để chỉnh sửa ảnh \n",
        "from tensorflow.keras.preprocessing.image import ImageDataGenerator\n",
        "train_datagen=ImageDataGenerator(rescale=1./255, shear_range=0.2, zoom_range=0.2, horizontal_flip=True)"
      ],
      "metadata": {
        "id": "Uj7xqzqWtXGL"
      },
      "execution_count": null,
      "outputs": []
    },
    {
      "cell_type": "code",
      "source": [
        "# Tạo bộ dữ liệu training set\n",
        "training_set=train_datagen.flow_from_directory('/content/drive/MyDrive/Colab Notebooks/BTW13/NHAN_DIEN_KHUON_MAT/training_set',target_size=(32,32), batch_size=32, class_mode='categorical')"
      ],
      "metadata": {
        "colab": {
          "base_uri": "https://localhost:8080/"
        },
        "id": "ww67kwZQxtJX",
        "outputId": "8bb98efd-8c72-4407-c957-650c712778a7"
      },
      "execution_count": null,
      "outputs": [
        {
          "output_type": "stream",
          "name": "stdout",
          "text": [
            "Found 127 images belonging to 2 classes.\n"
          ]
        }
      ]
    },
    {
      "cell_type": "code",
      "source": [
        "# Các nhãn có trong bộ dữ liệu training set\n",
        "training_set.class_indices"
      ],
      "metadata": {
        "colab": {
          "base_uri": "https://localhost:8080/"
        },
        "id": "tIr_yr3g53fp",
        "outputId": "5861c309-4bb7-4b84-b793-e0a1bf34092c"
      },
      "execution_count": null,
      "outputs": [
        {
          "output_type": "execute_result",
          "data": {
            "text/plain": [
              "{'No': 0, 'Yes': 1}"
            ]
          },
          "metadata": {},
          "execution_count": 7
        }
      ]
    },
    {
      "cell_type": "code",
      "source": [
        "# Tạo ra dữ liệu đầu vào và đầu ra từ bộ dữ liệu training set\n",
        "x_train,y_train=next(training_set)"
      ],
      "metadata": {
        "id": "PPLfxo2457aP"
      },
      "execution_count": null,
      "outputs": []
    },
    {
      "cell_type": "markdown",
      "source": [
        ""
      ],
      "metadata": {
        "id": "epkTON7uxrcG"
      }
    },
    {
      "cell_type": "code",
      "source": [
        "x_train.shape"
      ],
      "metadata": {
        "colab": {
          "base_uri": "https://localhost:8080/"
        },
        "id": "B8mQDOsJ523p",
        "outputId": "00d5723b-b473-4ddd-9f39-2928aa06e9fc"
      },
      "execution_count": null,
      "outputs": [
        {
          "output_type": "execute_result",
          "data": {
            "text/plain": [
              "(32, 32, 32, 3)"
            ]
          },
          "metadata": {},
          "execution_count": 9
        }
      ]
    },
    {
      "cell_type": "code",
      "source": [
        "y_train.shape"
      ],
      "metadata": {
        "colab": {
          "base_uri": "https://localhost:8080/"
        },
        "id": "fJSeXisOxr_o",
        "outputId": "28ad2213-9085-4c6e-b0d6-8a58cacc7480"
      },
      "execution_count": null,
      "outputs": [
        {
          "output_type": "execute_result",
          "data": {
            "text/plain": [
              "(32, 2)"
            ]
          },
          "metadata": {},
          "execution_count": 10
        }
      ]
    },
    {
      "cell_type": "code",
      "source": [
        "# Xử lý dữ liệu training\n",
        "x_train=x_train.reshape(32,3072)\n",
        "x_train=x_train.astype ('float32')"
      ],
      "metadata": {
        "id": "2Ppd12xp6Ouj"
      },
      "execution_count": null,
      "outputs": []
    },
    {
      "cell_type": "code",
      "source": [
        "x_train.shape"
      ],
      "metadata": {
        "colab": {
          "base_uri": "https://localhost:8080/"
        },
        "id": "t_bQFYtP6QaW",
        "outputId": "cde316d5-63cf-4adc-b000-c89b3309b274"
      },
      "execution_count": null,
      "outputs": [
        {
          "output_type": "execute_result",
          "data": {
            "text/plain": [
              "(32, 3072)"
            ]
          },
          "metadata": {},
          "execution_count": 12
        }
      ]
    },
    {
      "cell_type": "code",
      "source": [
        "y_train.shape"
      ],
      "metadata": {
        "colab": {
          "base_uri": "https://localhost:8080/"
        },
        "id": "z-MN4ZhR6Qhx",
        "outputId": "27795f8c-c9f4-43a0-89e6-433a9410fb2d"
      },
      "execution_count": null,
      "outputs": [
        {
          "output_type": "execute_result",
          "data": {
            "text/plain": [
              "(32, 2)"
            ]
          },
          "metadata": {},
          "execution_count": 13
        }
      ]
    },
    {
      "cell_type": "code",
      "source": [
        "# Tạo ra mạng ANN để train mô hình\n",
        "model=Sequential()\n",
        "# Tạo lớp ẩn thứ nhất với 3072 tín hiệu vào và có 4 tín hiệu ra sử dụng hàm relu\n",
        "model.add(Dense(4,activation='relu',input_shape=(3072,)))\n",
        "# Tạo lớp ẩn thứ hai với 4 tín hiệu vào và có 50 tín hiệu ra sử dụng hàm relu\n",
        "model.add(Dense(50,activation='relu'))\n",
        "# Tạo lớp ẩn thứ ba với 50 tín hiệu vào và có 50 tín hiệu ra sử dụng hàm relu\n",
        "model.add(Dense(50,activation='relu'))\n",
        "# Tạo lớp ẩn thứ tư với 50 tín hiệu vào, 2 tín hiệu ra ra sử dụng hàm softmax\n",
        "model.add(Dense(2,activation='softmax'))\n",
        "model.summary()"
      ],
      "metadata": {
        "colab": {
          "base_uri": "https://localhost:8080/"
        },
        "id": "ndCwFATd6QlA",
        "outputId": "68112ee3-0ac7-46df-f55a-9d16ff3cad67"
      },
      "execution_count": null,
      "outputs": [
        {
          "output_type": "stream",
          "name": "stdout",
          "text": [
            "Model: \"sequential\"\n",
            "_________________________________________________________________\n",
            " Layer (type)                Output Shape              Param #   \n",
            "=================================================================\n",
            " dense (Dense)               (None, 4)                 12292     \n",
            "                                                                 \n",
            " dense_1 (Dense)             (None, 50)                250       \n",
            "                                                                 \n",
            " dense_2 (Dense)             (None, 50)                2550      \n",
            "                                                                 \n",
            " dense_3 (Dense)             (None, 2)                 102       \n",
            "                                                                 \n",
            "=================================================================\n",
            "Total params: 15,194\n",
            "Trainable params: 15,194\n",
            "Non-trainable params: 0\n",
            "_________________________________________________________________\n"
          ]
        }
      ]
    },
    {
      "cell_type": "code",
      "source": [
        "# Biên dịch \n",
        "model.compile(loss='categorical_crossentropy',optimizer=RMSprop(), metrics=[\"accuracy\"])\n",
        "# Gán biến lại để vẽ đồ thị, với 1000 lần học (epochs), mỗi lần học thì chỉ học␣20 dữ liệu (batch_size), khi sai số không thay đổi trong 200 lần học thì sẽ␣ dừng học \n",
        "history=model.fit(x_train,y_train,epochs=1000, batch_size=20,verbose=1, validation_split=0.2, callbacks=[EarlyStopping(monitor='val_loss', patience=200)])"
      ],
      "metadata": {
        "colab": {
          "base_uri": "https://localhost:8080/"
        },
        "id": "d0fvvPMs6Qn6",
        "outputId": "1048ab38-d0d0-42e0-b794-231c8b265ee4"
      },
      "execution_count": null,
      "outputs": [
        {
          "output_type": "stream",
          "name": "stdout",
          "text": [
            "Epoch 1/1000\n",
            "2/2 [==============================] - 1s 187ms/step - loss: 0.6578 - accuracy: 0.4400 - val_loss: 0.6756 - val_accuracy: 0.4286\n",
            "Epoch 2/1000\n",
            "2/2 [==============================] - 0s 21ms/step - loss: 0.7795 - accuracy: 0.7200 - val_loss: 0.6814 - val_accuracy: 0.4286\n",
            "Epoch 3/1000\n",
            "2/2 [==============================] - 0s 26ms/step - loss: 0.6991 - accuracy: 0.4800 - val_loss: 0.6941 - val_accuracy: 0.5714\n",
            "Epoch 4/1000\n",
            "2/2 [==============================] - 0s 25ms/step - loss: 0.5323 - accuracy: 0.7600 - val_loss: 1.0871 - val_accuracy: 0.5714\n",
            "Epoch 5/1000\n",
            "2/2 [==============================] - 0s 27ms/step - loss: 0.6272 - accuracy: 0.7200 - val_loss: 0.6197 - val_accuracy: 0.7143\n",
            "Epoch 6/1000\n",
            "2/2 [==============================] - 0s 24ms/step - loss: 0.4591 - accuracy: 0.9600 - val_loss: 0.9527 - val_accuracy: 0.5714\n",
            "Epoch 7/1000\n",
            "2/2 [==============================] - 0s 39ms/step - loss: 0.4679 - accuracy: 0.7600 - val_loss: 0.5705 - val_accuracy: 0.7143\n",
            "Epoch 8/1000\n",
            "2/2 [==============================] - 0s 23ms/step - loss: 0.6788 - accuracy: 0.5200 - val_loss: 0.5963 - val_accuracy: 0.4286\n",
            "Epoch 9/1000\n",
            "2/2 [==============================] - 0s 21ms/step - loss: 0.6757 - accuracy: 0.4800 - val_loss: 0.5554 - val_accuracy: 0.8571\n",
            "Epoch 10/1000\n",
            "2/2 [==============================] - 0s 22ms/step - loss: 0.5104 - accuracy: 0.6800 - val_loss: 0.5346 - val_accuracy: 1.0000\n",
            "Epoch 11/1000\n",
            "2/2 [==============================] - 0s 21ms/step - loss: 0.4329 - accuracy: 0.8400 - val_loss: 0.8115 - val_accuracy: 0.5714\n",
            "Epoch 12/1000\n",
            "2/2 [==============================] - 0s 21ms/step - loss: 0.3177 - accuracy: 0.8400 - val_loss: 0.9378 - val_accuracy: 0.5714\n",
            "Epoch 13/1000\n",
            "2/2 [==============================] - 0s 24ms/step - loss: 0.2895 - accuracy: 0.8800 - val_loss: 0.6993 - val_accuracy: 0.7143\n",
            "Epoch 14/1000\n",
            "2/2 [==============================] - 0s 22ms/step - loss: 0.2205 - accuracy: 1.0000 - val_loss: 0.8242 - val_accuracy: 0.5714\n",
            "Epoch 15/1000\n",
            "2/2 [==============================] - 0s 22ms/step - loss: 0.2229 - accuracy: 1.0000 - val_loss: 1.3171 - val_accuracy: 0.5714\n",
            "Epoch 16/1000\n",
            "2/2 [==============================] - 0s 23ms/step - loss: 0.4105 - accuracy: 0.7600 - val_loss: 2.3195 - val_accuracy: 0.5714\n",
            "Epoch 17/1000\n",
            "2/2 [==============================] - 0s 21ms/step - loss: 0.5452 - accuracy: 0.8400 - val_loss: 0.4645 - val_accuracy: 0.8571\n",
            "Epoch 18/1000\n",
            "2/2 [==============================] - 0s 23ms/step - loss: 0.1908 - accuracy: 1.0000 - val_loss: 0.3939 - val_accuracy: 0.8571\n",
            "Epoch 19/1000\n",
            "2/2 [==============================] - 0s 23ms/step - loss: 0.1662 - accuracy: 1.0000 - val_loss: 1.2041 - val_accuracy: 0.5714\n",
            "Epoch 20/1000\n",
            "2/2 [==============================] - 0s 22ms/step - loss: 0.1658 - accuracy: 0.9600 - val_loss: 0.7209 - val_accuracy: 0.7143\n",
            "Epoch 21/1000\n",
            "2/2 [==============================] - 0s 23ms/step - loss: 0.1067 - accuracy: 1.0000 - val_loss: 0.8150 - val_accuracy: 0.7143\n",
            "Epoch 22/1000\n",
            "2/2 [==============================] - 0s 22ms/step - loss: 0.0932 - accuracy: 1.0000 - val_loss: 0.6213 - val_accuracy: 0.7143\n",
            "Epoch 23/1000\n",
            "2/2 [==============================] - 0s 26ms/step - loss: 0.0968 - accuracy: 1.0000 - val_loss: 0.4275 - val_accuracy: 0.7143\n",
            "Epoch 24/1000\n",
            "2/2 [==============================] - 0s 21ms/step - loss: 0.3053 - accuracy: 0.8400 - val_loss: 0.4427 - val_accuracy: 0.8571\n",
            "Epoch 25/1000\n",
            "2/2 [==============================] - 0s 23ms/step - loss: 0.0829 - accuracy: 1.0000 - val_loss: 1.2357 - val_accuracy: 0.7143\n",
            "Epoch 26/1000\n",
            "2/2 [==============================] - 0s 26ms/step - loss: 0.0681 - accuracy: 1.0000 - val_loss: 0.8582 - val_accuracy: 0.7143\n",
            "Epoch 27/1000\n",
            "2/2 [==============================] - 0s 23ms/step - loss: 0.0504 - accuracy: 1.0000 - val_loss: 0.7220 - val_accuracy: 0.7143\n",
            "Epoch 28/1000\n",
            "2/2 [==============================] - 0s 32ms/step - loss: 0.0491 - accuracy: 1.0000 - val_loss: 0.3602 - val_accuracy: 0.8571\n",
            "Epoch 29/1000\n",
            "2/2 [==============================] - 0s 23ms/step - loss: 0.0700 - accuracy: 1.0000 - val_loss: 1.1340 - val_accuracy: 0.7143\n",
            "Epoch 30/1000\n",
            "2/2 [==============================] - 0s 24ms/step - loss: 0.0329 - accuracy: 1.0000 - val_loss: 0.7970 - val_accuracy: 0.7143\n",
            "Epoch 31/1000\n",
            "2/2 [==============================] - 0s 23ms/step - loss: 0.0293 - accuracy: 1.0000 - val_loss: 1.0227 - val_accuracy: 0.7143\n",
            "Epoch 32/1000\n",
            "2/2 [==============================] - 0s 22ms/step - loss: 0.0265 - accuracy: 1.0000 - val_loss: 0.5771 - val_accuracy: 0.8571\n",
            "Epoch 33/1000\n",
            "2/2 [==============================] - 0s 23ms/step - loss: 0.0269 - accuracy: 1.0000 - val_loss: 1.4892 - val_accuracy: 0.7143\n",
            "Epoch 34/1000\n",
            "2/2 [==============================] - 0s 30ms/step - loss: 0.0329 - accuracy: 1.0000 - val_loss: 1.5226 - val_accuracy: 0.7143\n",
            "Epoch 35/1000\n",
            "2/2 [==============================] - 0s 24ms/step - loss: 0.0207 - accuracy: 1.0000 - val_loss: 0.8158 - val_accuracy: 0.7143\n",
            "Epoch 36/1000\n",
            "2/2 [==============================] - 0s 22ms/step - loss: 0.0164 - accuracy: 1.0000 - val_loss: 1.0224 - val_accuracy: 0.7143\n",
            "Epoch 37/1000\n",
            "2/2 [==============================] - 0s 21ms/step - loss: 0.0145 - accuracy: 1.0000 - val_loss: 1.6907 - val_accuracy: 0.7143\n",
            "Epoch 38/1000\n",
            "2/2 [==============================] - 0s 24ms/step - loss: 0.0186 - accuracy: 1.0000 - val_loss: 0.7556 - val_accuracy: 0.7143\n",
            "Epoch 39/1000\n",
            "2/2 [==============================] - 0s 25ms/step - loss: 0.0129 - accuracy: 1.0000 - val_loss: 0.8252 - val_accuracy: 0.7143\n",
            "Epoch 40/1000\n",
            "2/2 [==============================] - 0s 21ms/step - loss: 0.0105 - accuracy: 1.0000 - val_loss: 0.9890 - val_accuracy: 0.7143\n",
            "Epoch 41/1000\n",
            "2/2 [==============================] - 0s 21ms/step - loss: 0.0086 - accuracy: 1.0000 - val_loss: 1.0711 - val_accuracy: 0.7143\n",
            "Epoch 42/1000\n",
            "2/2 [==============================] - 0s 22ms/step - loss: 0.0073 - accuracy: 1.0000 - val_loss: 1.4778 - val_accuracy: 0.7143\n",
            "Epoch 43/1000\n",
            "2/2 [==============================] - 0s 23ms/step - loss: 0.0067 - accuracy: 1.0000 - val_loss: 0.4977 - val_accuracy: 0.8571\n",
            "Epoch 44/1000\n",
            "2/2 [==============================] - 0s 25ms/step - loss: 0.0107 - accuracy: 1.0000 - val_loss: 1.8801 - val_accuracy: 0.7143\n",
            "Epoch 45/1000\n",
            "2/2 [==============================] - 0s 21ms/step - loss: 0.0056 - accuracy: 1.0000 - val_loss: 0.3963 - val_accuracy: 0.8571\n",
            "Epoch 46/1000\n",
            "2/2 [==============================] - 0s 25ms/step - loss: 0.0098 - accuracy: 1.0000 - val_loss: 2.3207 - val_accuracy: 0.7143\n",
            "Epoch 47/1000\n",
            "2/2 [==============================] - 0s 22ms/step - loss: 0.0103 - accuracy: 1.0000 - val_loss: 2.1529 - val_accuracy: 0.7143\n",
            "Epoch 48/1000\n",
            "2/2 [==============================] - 0s 22ms/step - loss: 0.0074 - accuracy: 1.0000 - val_loss: 1.7023 - val_accuracy: 0.7143\n",
            "Epoch 49/1000\n",
            "2/2 [==============================] - 0s 23ms/step - loss: 0.0029 - accuracy: 1.0000 - val_loss: 1.7054 - val_accuracy: 0.7143\n",
            "Epoch 50/1000\n",
            "2/2 [==============================] - 0s 23ms/step - loss: 0.0024 - accuracy: 1.0000 - val_loss: 1.5759 - val_accuracy: 0.7143\n",
            "Epoch 51/1000\n",
            "2/2 [==============================] - 0s 43ms/step - loss: 0.0021 - accuracy: 1.0000 - val_loss: 1.5611 - val_accuracy: 0.7143\n",
            "Epoch 52/1000\n",
            "2/2 [==============================] - 0s 26ms/step - loss: 0.0018 - accuracy: 1.0000 - val_loss: 1.0972 - val_accuracy: 0.7143\n",
            "Epoch 53/1000\n",
            "2/2 [==============================] - 0s 27ms/step - loss: 0.0017 - accuracy: 1.0000 - val_loss: 1.4209 - val_accuracy: 0.7143\n",
            "Epoch 54/1000\n",
            "2/2 [==============================] - 0s 24ms/step - loss: 0.0015 - accuracy: 1.0000 - val_loss: 1.6192 - val_accuracy: 0.7143\n",
            "Epoch 55/1000\n",
            "2/2 [==============================] - 0s 28ms/step - loss: 0.0014 - accuracy: 1.0000 - val_loss: 1.3240 - val_accuracy: 0.7143\n",
            "Epoch 56/1000\n",
            "2/2 [==============================] - 0s 27ms/step - loss: 0.0012 - accuracy: 1.0000 - val_loss: 1.6508 - val_accuracy: 0.7143\n",
            "Epoch 57/1000\n",
            "2/2 [==============================] - 0s 22ms/step - loss: 0.0011 - accuracy: 1.0000 - val_loss: 1.1573 - val_accuracy: 0.7143\n",
            "Epoch 58/1000\n",
            "2/2 [==============================] - 0s 27ms/step - loss: 0.0011 - accuracy: 1.0000 - val_loss: 1.4943 - val_accuracy: 0.7143\n",
            "Epoch 59/1000\n",
            "2/2 [==============================] - 0s 24ms/step - loss: 9.2294e-04 - accuracy: 1.0000 - val_loss: 1.8173 - val_accuracy: 0.7143\n",
            "Epoch 60/1000\n",
            "2/2 [==============================] - 0s 23ms/step - loss: 8.7550e-04 - accuracy: 1.0000 - val_loss: 1.5181 - val_accuracy: 0.7143\n",
            "Epoch 61/1000\n",
            "2/2 [==============================] - 0s 23ms/step - loss: 7.0204e-04 - accuracy: 1.0000 - val_loss: 1.4513 - val_accuracy: 0.7143\n",
            "Epoch 62/1000\n",
            "2/2 [==============================] - 0s 22ms/step - loss: 6.4745e-04 - accuracy: 1.0000 - val_loss: 0.6387 - val_accuracy: 0.8571\n",
            "Epoch 63/1000\n",
            "2/2 [==============================] - 0s 23ms/step - loss: 0.0013 - accuracy: 1.0000 - val_loss: 0.3296 - val_accuracy: 0.8571\n",
            "Epoch 64/1000\n",
            "2/2 [==============================] - 0s 30ms/step - loss: 1.7904 - accuracy: 0.8800 - val_loss: 0.3262 - val_accuracy: 0.8571\n",
            "Epoch 65/1000\n",
            "2/2 [==============================] - 0s 27ms/step - loss: 0.0145 - accuracy: 1.0000 - val_loss: 0.4031 - val_accuracy: 0.8571\n",
            "Epoch 66/1000\n",
            "2/2 [==============================] - 0s 23ms/step - loss: 0.0030 - accuracy: 1.0000 - val_loss: 0.4257 - val_accuracy: 0.8571\n",
            "Epoch 67/1000\n",
            "2/2 [==============================] - 0s 24ms/step - loss: 0.0026 - accuracy: 1.0000 - val_loss: 0.4463 - val_accuracy: 0.8571\n",
            "Epoch 68/1000\n",
            "2/2 [==============================] - 0s 23ms/step - loss: 0.0023 - accuracy: 1.0000 - val_loss: 0.4753 - val_accuracy: 0.8571\n",
            "Epoch 69/1000\n",
            "2/2 [==============================] - 0s 27ms/step - loss: 0.0020 - accuracy: 1.0000 - val_loss: 0.4994 - val_accuracy: 0.8571\n",
            "Epoch 70/1000\n",
            "2/2 [==============================] - 0s 23ms/step - loss: 0.0018 - accuracy: 1.0000 - val_loss: 0.5177 - val_accuracy: 0.8571\n",
            "Epoch 71/1000\n",
            "2/2 [==============================] - 0s 23ms/step - loss: 0.0017 - accuracy: 1.0000 - val_loss: 0.5421 - val_accuracy: 0.8571\n",
            "Epoch 72/1000\n",
            "2/2 [==============================] - 0s 23ms/step - loss: 0.0015 - accuracy: 1.0000 - val_loss: 0.5629 - val_accuracy: 0.8571\n",
            "Epoch 73/1000\n",
            "2/2 [==============================] - 0s 22ms/step - loss: 0.0014 - accuracy: 1.0000 - val_loss: 0.5892 - val_accuracy: 0.8571\n",
            "Epoch 74/1000\n",
            "2/2 [==============================] - 0s 40ms/step - loss: 0.0013 - accuracy: 1.0000 - val_loss: 0.6151 - val_accuracy: 0.8571\n",
            "Epoch 75/1000\n",
            "2/2 [==============================] - 0s 21ms/step - loss: 0.0012 - accuracy: 1.0000 - val_loss: 0.6466 - val_accuracy: 0.8571\n",
            "Epoch 76/1000\n",
            "2/2 [==============================] - 0s 23ms/step - loss: 0.0011 - accuracy: 1.0000 - val_loss: 0.6812 - val_accuracy: 0.8571\n",
            "Epoch 77/1000\n",
            "2/2 [==============================] - 0s 30ms/step - loss: 0.0010 - accuracy: 1.0000 - val_loss: 0.7237 - val_accuracy: 0.8571\n",
            "Epoch 78/1000\n",
            "2/2 [==============================] - 0s 24ms/step - loss: 9.5318e-04 - accuracy: 1.0000 - val_loss: 0.7592 - val_accuracy: 0.8571\n",
            "Epoch 79/1000\n",
            "2/2 [==============================] - 0s 23ms/step - loss: 8.9261e-04 - accuracy: 1.0000 - val_loss: 0.7942 - val_accuracy: 0.8571\n",
            "Epoch 80/1000\n",
            "2/2 [==============================] - 0s 25ms/step - loss: 8.4252e-04 - accuracy: 1.0000 - val_loss: 0.8299 - val_accuracy: 0.8571\n",
            "Epoch 81/1000\n",
            "2/2 [==============================] - 0s 27ms/step - loss: 7.9617e-04 - accuracy: 1.0000 - val_loss: 0.8737 - val_accuracy: 0.8571\n",
            "Epoch 82/1000\n",
            "2/2 [==============================] - 0s 22ms/step - loss: 7.4911e-04 - accuracy: 1.0000 - val_loss: 0.9207 - val_accuracy: 0.8571\n",
            "Epoch 83/1000\n",
            "2/2 [==============================] - 0s 24ms/step - loss: 7.1089e-04 - accuracy: 1.0000 - val_loss: 0.9454 - val_accuracy: 0.7143\n",
            "Epoch 84/1000\n",
            "2/2 [==============================] - 0s 25ms/step - loss: 6.8714e-04 - accuracy: 1.0000 - val_loss: 0.9829 - val_accuracy: 0.7143\n",
            "Epoch 85/1000\n",
            "2/2 [==============================] - 0s 26ms/step - loss: 6.5835e-04 - accuracy: 1.0000 - val_loss: 1.0278 - val_accuracy: 0.7143\n",
            "Epoch 86/1000\n",
            "2/2 [==============================] - 0s 24ms/step - loss: 6.3005e-04 - accuracy: 1.0000 - val_loss: 1.0663 - val_accuracy: 0.7143\n",
            "Epoch 87/1000\n",
            "2/2 [==============================] - 0s 28ms/step - loss: 6.0317e-04 - accuracy: 1.0000 - val_loss: 1.0929 - val_accuracy: 0.7143\n",
            "Epoch 88/1000\n",
            "2/2 [==============================] - 0s 23ms/step - loss: 5.8031e-04 - accuracy: 1.0000 - val_loss: 1.1611 - val_accuracy: 0.7143\n",
            "Epoch 89/1000\n",
            "2/2 [==============================] - 0s 44ms/step - loss: 5.5044e-04 - accuracy: 1.0000 - val_loss: 1.2028 - val_accuracy: 0.7143\n",
            "Epoch 90/1000\n",
            "2/2 [==============================] - 0s 28ms/step - loss: 5.3001e-04 - accuracy: 1.0000 - val_loss: 1.2441 - val_accuracy: 0.7143\n",
            "Epoch 91/1000\n",
            "2/2 [==============================] - 0s 24ms/step - loss: 5.0836e-04 - accuracy: 1.0000 - val_loss: 1.3271 - val_accuracy: 0.7143\n",
            "Epoch 92/1000\n",
            "2/2 [==============================] - 0s 36ms/step - loss: 4.7163e-04 - accuracy: 1.0000 - val_loss: 1.4201 - val_accuracy: 0.7143\n",
            "Epoch 93/1000\n",
            "2/2 [==============================] - 0s 26ms/step - loss: 4.4282e-04 - accuracy: 1.0000 - val_loss: 1.5037 - val_accuracy: 0.7143\n",
            "Epoch 94/1000\n",
            "2/2 [==============================] - 0s 26ms/step - loss: 4.1774e-04 - accuracy: 1.0000 - val_loss: 1.5368 - val_accuracy: 0.7143\n",
            "Epoch 95/1000\n",
            "2/2 [==============================] - 0s 32ms/step - loss: 4.0198e-04 - accuracy: 1.0000 - val_loss: 1.5633 - val_accuracy: 0.7143\n",
            "Epoch 96/1000\n",
            "2/2 [==============================] - 0s 23ms/step - loss: 3.8299e-04 - accuracy: 1.0000 - val_loss: 1.6514 - val_accuracy: 0.7143\n",
            "Epoch 97/1000\n",
            "2/2 [==============================] - 0s 23ms/step - loss: 3.6451e-04 - accuracy: 1.0000 - val_loss: 1.6817 - val_accuracy: 0.7143\n",
            "Epoch 98/1000\n",
            "2/2 [==============================] - 0s 27ms/step - loss: 3.5280e-04 - accuracy: 1.0000 - val_loss: 1.6927 - val_accuracy: 0.7143\n",
            "Epoch 99/1000\n",
            "2/2 [==============================] - 0s 23ms/step - loss: 3.3886e-04 - accuracy: 1.0000 - val_loss: 1.7450 - val_accuracy: 0.7143\n",
            "Epoch 100/1000\n",
            "2/2 [==============================] - 0s 24ms/step - loss: 3.2569e-04 - accuracy: 1.0000 - val_loss: 1.7318 - val_accuracy: 0.7143\n",
            "Epoch 101/1000\n",
            "2/2 [==============================] - 0s 27ms/step - loss: 3.1347e-04 - accuracy: 1.0000 - val_loss: 1.7644 - val_accuracy: 0.7143\n",
            "Epoch 102/1000\n",
            "2/2 [==============================] - 0s 21ms/step - loss: 3.0082e-04 - accuracy: 1.0000 - val_loss: 1.8806 - val_accuracy: 0.7143\n",
            "Epoch 103/1000\n",
            "2/2 [==============================] - 0s 23ms/step - loss: 2.7452e-04 - accuracy: 1.0000 - val_loss: 1.9521 - val_accuracy: 0.7143\n",
            "Epoch 104/1000\n",
            "2/2 [==============================] - 0s 22ms/step - loss: 2.6112e-04 - accuracy: 1.0000 - val_loss: 2.0303 - val_accuracy: 0.7143\n",
            "Epoch 105/1000\n",
            "2/2 [==============================] - 0s 29ms/step - loss: 2.5186e-04 - accuracy: 1.0000 - val_loss: 2.1818 - val_accuracy: 0.7143\n",
            "Epoch 106/1000\n",
            "2/2 [==============================] - 0s 22ms/step - loss: 2.3218e-04 - accuracy: 1.0000 - val_loss: 2.1721 - val_accuracy: 0.7143\n",
            "Epoch 107/1000\n",
            "2/2 [==============================] - 0s 25ms/step - loss: 2.1568e-04 - accuracy: 1.0000 - val_loss: 1.9918 - val_accuracy: 0.7143\n",
            "Epoch 108/1000\n",
            "2/2 [==============================] - 0s 23ms/step - loss: 2.0411e-04 - accuracy: 1.0000 - val_loss: 1.9609 - val_accuracy: 0.7143\n",
            "Epoch 109/1000\n",
            "2/2 [==============================] - 0s 25ms/step - loss: 1.9312e-04 - accuracy: 1.0000 - val_loss: 2.0159 - val_accuracy: 0.7143\n",
            "Epoch 110/1000\n",
            "2/2 [==============================] - 0s 23ms/step - loss: 1.8308e-04 - accuracy: 1.0000 - val_loss: 2.1095 - val_accuracy: 0.7143\n",
            "Epoch 111/1000\n",
            "2/2 [==============================] - 0s 23ms/step - loss: 1.7243e-04 - accuracy: 1.0000 - val_loss: 2.1055 - val_accuracy: 0.7143\n",
            "Epoch 112/1000\n",
            "2/2 [==============================] - 0s 25ms/step - loss: 1.6009e-04 - accuracy: 1.0000 - val_loss: 2.1884 - val_accuracy: 0.7143\n",
            "Epoch 113/1000\n",
            "2/2 [==============================] - 0s 24ms/step - loss: 1.4837e-04 - accuracy: 1.0000 - val_loss: 2.2332 - val_accuracy: 0.7143\n",
            "Epoch 114/1000\n",
            "2/2 [==============================] - 0s 25ms/step - loss: 1.4114e-04 - accuracy: 1.0000 - val_loss: 2.0708 - val_accuracy: 0.7143\n",
            "Epoch 115/1000\n",
            "2/2 [==============================] - 0s 31ms/step - loss: 1.3338e-04 - accuracy: 1.0000 - val_loss: 2.4276 - val_accuracy: 0.7143\n",
            "Epoch 116/1000\n",
            "2/2 [==============================] - 0s 26ms/step - loss: 1.1451e-04 - accuracy: 1.0000 - val_loss: 2.4565 - val_accuracy: 0.7143\n",
            "Epoch 117/1000\n",
            "2/2 [==============================] - 0s 23ms/step - loss: 1.0582e-04 - accuracy: 1.0000 - val_loss: 2.4010 - val_accuracy: 0.7143\n",
            "Epoch 118/1000\n",
            "2/2 [==============================] - 0s 24ms/step - loss: 9.7927e-05 - accuracy: 1.0000 - val_loss: 2.3603 - val_accuracy: 0.7143\n",
            "Epoch 119/1000\n",
            "2/2 [==============================] - 0s 22ms/step - loss: 9.1297e-05 - accuracy: 1.0000 - val_loss: 2.4765 - val_accuracy: 0.7143\n",
            "Epoch 120/1000\n",
            "2/2 [==============================] - 0s 23ms/step - loss: 8.5084e-05 - accuracy: 1.0000 - val_loss: 2.4640 - val_accuracy: 0.7143\n",
            "Epoch 121/1000\n",
            "2/2 [==============================] - 0s 26ms/step - loss: 7.9745e-05 - accuracy: 1.0000 - val_loss: 2.6524 - val_accuracy: 0.7143\n",
            "Epoch 122/1000\n",
            "2/2 [==============================] - 0s 29ms/step - loss: 7.4562e-05 - accuracy: 1.0000 - val_loss: 2.5069 - val_accuracy: 0.7143\n",
            "Epoch 123/1000\n",
            "2/2 [==============================] - 0s 24ms/step - loss: 6.9675e-05 - accuracy: 1.0000 - val_loss: 2.6161 - val_accuracy: 0.7143\n",
            "Epoch 124/1000\n",
            "2/2 [==============================] - 0s 30ms/step - loss: 6.4800e-05 - accuracy: 1.0000 - val_loss: 2.6756 - val_accuracy: 0.7143\n",
            "Epoch 125/1000\n",
            "2/2 [==============================] - 0s 25ms/step - loss: 5.9319e-05 - accuracy: 1.0000 - val_loss: 2.7268 - val_accuracy: 0.7143\n",
            "Epoch 126/1000\n",
            "2/2 [==============================] - 0s 23ms/step - loss: 5.5163e-05 - accuracy: 1.0000 - val_loss: 2.4794 - val_accuracy: 0.7143\n",
            "Epoch 127/1000\n",
            "2/2 [==============================] - 0s 24ms/step - loss: 5.2840e-05 - accuracy: 1.0000 - val_loss: 2.7064 - val_accuracy: 0.7143\n",
            "Epoch 128/1000\n",
            "2/2 [==============================] - 0s 25ms/step - loss: 4.8046e-05 - accuracy: 1.0000 - val_loss: 2.6454 - val_accuracy: 0.7143\n",
            "Epoch 129/1000\n",
            "2/2 [==============================] - 0s 24ms/step - loss: 4.4704e-05 - accuracy: 1.0000 - val_loss: 2.7843 - val_accuracy: 0.7143\n",
            "Epoch 130/1000\n",
            "2/2 [==============================] - 0s 26ms/step - loss: 4.0748e-05 - accuracy: 1.0000 - val_loss: 2.8034 - val_accuracy: 0.7143\n",
            "Epoch 131/1000\n",
            "2/2 [==============================] - 0s 23ms/step - loss: 3.8164e-05 - accuracy: 1.0000 - val_loss: 2.4265 - val_accuracy: 0.7143\n",
            "Epoch 132/1000\n",
            "2/2 [==============================] - 0s 24ms/step - loss: 3.6658e-05 - accuracy: 1.0000 - val_loss: 3.0788 - val_accuracy: 0.7143\n",
            "Epoch 133/1000\n",
            "2/2 [==============================] - 0s 22ms/step - loss: 2.7034e-05 - accuracy: 1.0000 - val_loss: 3.2821 - val_accuracy: 0.7143\n",
            "Epoch 134/1000\n",
            "2/2 [==============================] - 0s 22ms/step - loss: 2.4407e-05 - accuracy: 1.0000 - val_loss: 2.7201 - val_accuracy: 0.7143\n",
            "Epoch 135/1000\n",
            "2/2 [==============================] - 0s 30ms/step - loss: 2.3696e-05 - accuracy: 1.0000 - val_loss: 2.9034 - val_accuracy: 0.7143\n",
            "Epoch 136/1000\n",
            "2/2 [==============================] - 0s 22ms/step - loss: 2.0945e-05 - accuracy: 1.0000 - val_loss: 3.0012 - val_accuracy: 0.7143\n",
            "Epoch 137/1000\n",
            "2/2 [==============================] - 0s 27ms/step - loss: 1.8585e-05 - accuracy: 1.0000 - val_loss: 3.2881 - val_accuracy: 0.7143\n",
            "Epoch 138/1000\n",
            "2/2 [==============================] - 0s 23ms/step - loss: 1.6411e-05 - accuracy: 1.0000 - val_loss: 3.4289 - val_accuracy: 0.7143\n",
            "Epoch 139/1000\n",
            "2/2 [==============================] - 0s 23ms/step - loss: 1.3236e-05 - accuracy: 1.0000 - val_loss: 2.9893 - val_accuracy: 0.7143\n",
            "Epoch 140/1000\n",
            "2/2 [==============================] - 0s 23ms/step - loss: 1.2964e-05 - accuracy: 1.0000 - val_loss: 3.1657 - val_accuracy: 0.7143\n",
            "Epoch 141/1000\n",
            "2/2 [==============================] - 0s 27ms/step - loss: 1.1129e-05 - accuracy: 1.0000 - val_loss: 3.5373 - val_accuracy: 0.7143\n",
            "Epoch 142/1000\n",
            "2/2 [==============================] - 0s 25ms/step - loss: 9.1597e-06 - accuracy: 1.0000 - val_loss: 3.6402 - val_accuracy: 0.7143\n",
            "Epoch 143/1000\n",
            "2/2 [==============================] - 0s 24ms/step - loss: 8.4493e-06 - accuracy: 1.0000 - val_loss: 3.4980 - val_accuracy: 0.7143\n",
            "Epoch 144/1000\n",
            "2/2 [==============================] - 0s 37ms/step - loss: 7.7388e-06 - accuracy: 1.0000 - val_loss: 3.6531 - val_accuracy: 0.7143\n",
            "Epoch 145/1000\n",
            "2/2 [==============================] - 0s 24ms/step - loss: 7.2334e-06 - accuracy: 1.0000 - val_loss: 3.3578 - val_accuracy: 0.7143\n",
            "Epoch 146/1000\n",
            "2/2 [==============================] - 0s 24ms/step - loss: 6.7804e-06 - accuracy: 1.0000 - val_loss: 3.5262 - val_accuracy: 0.7143\n",
            "Epoch 147/1000\n",
            "2/2 [==============================] - 0s 23ms/step - loss: 6.0318e-06 - accuracy: 1.0000 - val_loss: 3.3085 - val_accuracy: 0.7143\n",
            "Epoch 148/1000\n",
            "2/2 [==============================] - 0s 24ms/step - loss: 5.8125e-06 - accuracy: 1.0000 - val_loss: 3.4907 - val_accuracy: 0.7143\n",
            "Epoch 149/1000\n",
            "2/2 [==============================] - 0s 25ms/step - loss: 5.1402e-06 - accuracy: 1.0000 - val_loss: 3.4914 - val_accuracy: 0.7143\n",
            "Epoch 150/1000\n",
            "2/2 [==============================] - 0s 26ms/step - loss: 4.6061e-06 - accuracy: 1.0000 - val_loss: 3.7182 - val_accuracy: 0.7143\n",
            "Epoch 151/1000\n",
            "2/2 [==============================] - 0s 28ms/step - loss: 4.0912e-06 - accuracy: 1.0000 - val_loss: 3.6239 - val_accuracy: 0.7143\n",
            "Epoch 152/1000\n",
            "2/2 [==============================] - 0s 26ms/step - loss: 3.7669e-06 - accuracy: 1.0000 - val_loss: 4.0682 - val_accuracy: 0.7143\n",
            "Epoch 153/1000\n",
            "2/2 [==============================] - 0s 33ms/step - loss: 3.4427e-06 - accuracy: 1.0000 - val_loss: 3.5857 - val_accuracy: 0.7143\n",
            "Epoch 154/1000\n",
            "2/2 [==============================] - 0s 26ms/step - loss: 3.1423e-06 - accuracy: 1.0000 - val_loss: 4.1855 - val_accuracy: 0.7143\n",
            "Epoch 155/1000\n",
            "2/2 [==============================] - 0s 26ms/step - loss: 2.8324e-06 - accuracy: 1.0000 - val_loss: 3.5604 - val_accuracy: 0.7143\n",
            "Epoch 156/1000\n",
            "2/2 [==============================] - 0s 30ms/step - loss: 2.5463e-06 - accuracy: 1.0000 - val_loss: 4.1291 - val_accuracy: 0.7143\n",
            "Epoch 157/1000\n",
            "2/2 [==============================] - 0s 24ms/step - loss: 1.9312e-06 - accuracy: 1.0000 - val_loss: 3.7108 - val_accuracy: 0.7143\n",
            "Epoch 158/1000\n",
            "2/2 [==============================] - 0s 40ms/step - loss: 1.8453e-06 - accuracy: 1.0000 - val_loss: 4.2946 - val_accuracy: 0.7143\n",
            "Epoch 159/1000\n",
            "2/2 [==============================] - 0s 22ms/step - loss: 1.6212e-06 - accuracy: 1.0000 - val_loss: 4.1371 - val_accuracy: 0.7143\n",
            "Epoch 160/1000\n",
            "2/2 [==============================] - 0s 23ms/step - loss: 1.5163e-06 - accuracy: 1.0000 - val_loss: 5.1233 - val_accuracy: 0.7143\n",
            "Epoch 161/1000\n",
            "2/2 [==============================] - 0s 23ms/step - loss: 5.1116e-06 - accuracy: 1.0000 - val_loss: 6.0322 - val_accuracy: 0.7143\n",
            "Epoch 162/1000\n",
            "2/2 [==============================] - 0s 31ms/step - loss: 3.6621e-06 - accuracy: 1.0000 - val_loss: 1.4347 - val_accuracy: 0.7143\n",
            "Epoch 163/1000\n",
            "2/2 [==============================] - 0s 23ms/step - loss: 0.7013 - accuracy: 0.9200 - val_loss: 2.1028 - val_accuracy: 0.5714\n",
            "Epoch 164/1000\n",
            "2/2 [==============================] - 0s 27ms/step - loss: 0.6376 - accuracy: 0.8800 - val_loss: 3.1581 - val_accuracy: 0.7143\n",
            "Epoch 165/1000\n",
            "2/2 [==============================] - 0s 27ms/step - loss: 1.3780e-06 - accuracy: 1.0000 - val_loss: 3.1581 - val_accuracy: 0.7143\n",
            "Epoch 166/1000\n",
            "2/2 [==============================] - 0s 42ms/step - loss: 1.3780e-06 - accuracy: 1.0000 - val_loss: 3.1581 - val_accuracy: 0.7143\n",
            "Epoch 167/1000\n",
            "2/2 [==============================] - 0s 25ms/step - loss: 1.3780e-06 - accuracy: 1.0000 - val_loss: 3.1581 - val_accuracy: 0.7143\n",
            "Epoch 168/1000\n",
            "2/2 [==============================] - 0s 22ms/step - loss: 1.3780e-06 - accuracy: 1.0000 - val_loss: 3.1581 - val_accuracy: 0.7143\n",
            "Epoch 169/1000\n",
            "2/2 [==============================] - 0s 23ms/step - loss: 1.3780e-06 - accuracy: 1.0000 - val_loss: 3.1581 - val_accuracy: 0.7143\n",
            "Epoch 170/1000\n",
            "2/2 [==============================] - 0s 23ms/step - loss: 1.3780e-06 - accuracy: 1.0000 - val_loss: 3.1582 - val_accuracy: 0.7143\n",
            "Epoch 171/1000\n",
            "2/2 [==============================] - 0s 23ms/step - loss: 1.3780e-06 - accuracy: 1.0000 - val_loss: 3.1582 - val_accuracy: 0.7143\n",
            "Epoch 172/1000\n",
            "2/2 [==============================] - 0s 29ms/step - loss: 1.3780e-06 - accuracy: 1.0000 - val_loss: 3.1582 - val_accuracy: 0.7143\n",
            "Epoch 173/1000\n",
            "2/2 [==============================] - 0s 25ms/step - loss: 1.3780e-06 - accuracy: 1.0000 - val_loss: 3.1582 - val_accuracy: 0.7143\n",
            "Epoch 174/1000\n",
            "2/2 [==============================] - 0s 24ms/step - loss: 1.3780e-06 - accuracy: 1.0000 - val_loss: 3.1583 - val_accuracy: 0.7143\n",
            "Epoch 175/1000\n",
            "2/2 [==============================] - 0s 23ms/step - loss: 1.3780e-06 - accuracy: 1.0000 - val_loss: 3.1583 - val_accuracy: 0.7143\n",
            "Epoch 176/1000\n",
            "2/2 [==============================] - 0s 24ms/step - loss: 1.3780e-06 - accuracy: 1.0000 - val_loss: 3.1584 - val_accuracy: 0.7143\n",
            "Epoch 177/1000\n",
            "2/2 [==============================] - 0s 37ms/step - loss: 1.3780e-06 - accuracy: 1.0000 - val_loss: 3.1585 - val_accuracy: 0.7143\n",
            "Epoch 178/1000\n",
            "2/2 [==============================] - 0s 31ms/step - loss: 1.3780e-06 - accuracy: 1.0000 - val_loss: 3.1586 - val_accuracy: 0.7143\n",
            "Epoch 179/1000\n",
            "2/2 [==============================] - 0s 31ms/step - loss: 1.3780e-06 - accuracy: 1.0000 - val_loss: 3.1586 - val_accuracy: 0.7143\n",
            "Epoch 180/1000\n",
            "2/2 [==============================] - 0s 24ms/step - loss: 1.3780e-06 - accuracy: 1.0000 - val_loss: 3.1588 - val_accuracy: 0.7143\n",
            "Epoch 181/1000\n",
            "2/2 [==============================] - 0s 26ms/step - loss: 1.3780e-06 - accuracy: 1.0000 - val_loss: 3.1589 - val_accuracy: 0.7143\n",
            "Epoch 182/1000\n",
            "2/2 [==============================] - 0s 22ms/step - loss: 1.3780e-06 - accuracy: 1.0000 - val_loss: 3.1590 - val_accuracy: 0.7143\n",
            "Epoch 183/1000\n",
            "2/2 [==============================] - 0s 28ms/step - loss: 1.3780e-06 - accuracy: 1.0000 - val_loss: 3.1592 - val_accuracy: 0.7143\n",
            "Epoch 184/1000\n",
            "2/2 [==============================] - 0s 22ms/step - loss: 1.3780e-06 - accuracy: 1.0000 - val_loss: 3.1595 - val_accuracy: 0.7143\n",
            "Epoch 185/1000\n",
            "2/2 [==============================] - 0s 26ms/step - loss: 1.3780e-06 - accuracy: 1.0000 - val_loss: 3.1596 - val_accuracy: 0.7143\n",
            "Epoch 186/1000\n",
            "2/2 [==============================] - 0s 25ms/step - loss: 1.3780e-06 - accuracy: 1.0000 - val_loss: 3.1597 - val_accuracy: 0.7143\n",
            "Epoch 187/1000\n",
            "2/2 [==============================] - 0s 21ms/step - loss: 1.3780e-06 - accuracy: 1.0000 - val_loss: 3.1598 - val_accuracy: 0.7143\n",
            "Epoch 188/1000\n",
            "2/2 [==============================] - 0s 22ms/step - loss: 1.3780e-06 - accuracy: 1.0000 - val_loss: 3.1600 - val_accuracy: 0.7143\n",
            "Epoch 189/1000\n",
            "2/2 [==============================] - 0s 22ms/step - loss: 1.3780e-06 - accuracy: 1.0000 - val_loss: 3.1603 - val_accuracy: 0.7143\n",
            "Epoch 190/1000\n",
            "2/2 [==============================] - 0s 22ms/step - loss: 1.3780e-06 - accuracy: 1.0000 - val_loss: 3.1606 - val_accuracy: 0.7143\n",
            "Epoch 191/1000\n",
            "2/2 [==============================] - 0s 25ms/step - loss: 1.3780e-06 - accuracy: 1.0000 - val_loss: 3.1612 - val_accuracy: 0.7143\n",
            "Epoch 192/1000\n",
            "2/2 [==============================] - 0s 28ms/step - loss: 1.3780e-06 - accuracy: 1.0000 - val_loss: 3.1618 - val_accuracy: 0.7143\n",
            "Epoch 193/1000\n",
            "2/2 [==============================] - 0s 39ms/step - loss: 1.3733e-06 - accuracy: 1.0000 - val_loss: 3.1625 - val_accuracy: 0.7143\n",
            "Epoch 194/1000\n",
            "2/2 [==============================] - 0s 26ms/step - loss: 1.3733e-06 - accuracy: 1.0000 - val_loss: 3.1630 - val_accuracy: 0.7143\n",
            "Epoch 195/1000\n",
            "2/2 [==============================] - 0s 44ms/step - loss: 1.3733e-06 - accuracy: 1.0000 - val_loss: 3.1633 - val_accuracy: 0.7143\n",
            "Epoch 196/1000\n",
            "2/2 [==============================] - 0s 26ms/step - loss: 1.3733e-06 - accuracy: 1.0000 - val_loss: 3.1641 - val_accuracy: 0.7143\n",
            "Epoch 197/1000\n",
            "2/2 [==============================] - 0s 32ms/step - loss: 1.3733e-06 - accuracy: 1.0000 - val_loss: 3.1645 - val_accuracy: 0.7143\n",
            "Epoch 198/1000\n",
            "2/2 [==============================] - 0s 23ms/step - loss: 1.3733e-06 - accuracy: 1.0000 - val_loss: 3.1650 - val_accuracy: 0.7143\n",
            "Epoch 199/1000\n",
            "2/2 [==============================] - 0s 24ms/step - loss: 1.3733e-06 - accuracy: 1.0000 - val_loss: 3.1655 - val_accuracy: 0.7143\n",
            "Epoch 200/1000\n",
            "2/2 [==============================] - 0s 25ms/step - loss: 1.3733e-06 - accuracy: 1.0000 - val_loss: 3.1665 - val_accuracy: 0.7143\n",
            "Epoch 201/1000\n",
            "2/2 [==============================] - 0s 22ms/step - loss: 1.3733e-06 - accuracy: 1.0000 - val_loss: 3.1673 - val_accuracy: 0.7143\n",
            "Epoch 202/1000\n",
            "2/2 [==============================] - 0s 24ms/step - loss: 1.3733e-06 - accuracy: 1.0000 - val_loss: 3.1680 - val_accuracy: 0.7143\n",
            "Epoch 203/1000\n",
            "2/2 [==============================] - 0s 24ms/step - loss: 1.3733e-06 - accuracy: 1.0000 - val_loss: 3.1687 - val_accuracy: 0.7143\n",
            "Epoch 204/1000\n",
            "2/2 [==============================] - 0s 22ms/step - loss: 1.3733e-06 - accuracy: 1.0000 - val_loss: 3.1701 - val_accuracy: 0.7143\n",
            "Epoch 205/1000\n",
            "2/2 [==============================] - 0s 25ms/step - loss: 1.3685e-06 - accuracy: 1.0000 - val_loss: 3.1714 - val_accuracy: 0.7143\n",
            "Epoch 206/1000\n",
            "2/2 [==============================] - 0s 22ms/step - loss: 1.3637e-06 - accuracy: 1.0000 - val_loss: 3.1724 - val_accuracy: 0.7143\n",
            "Epoch 207/1000\n",
            "2/2 [==============================] - 0s 25ms/step - loss: 1.3637e-06 - accuracy: 1.0000 - val_loss: 3.1739 - val_accuracy: 0.7143\n",
            "Epoch 208/1000\n",
            "2/2 [==============================] - 0s 30ms/step - loss: 1.3637e-06 - accuracy: 1.0000 - val_loss: 3.1750 - val_accuracy: 0.7143\n",
            "Epoch 209/1000\n",
            "2/2 [==============================] - 0s 24ms/step - loss: 1.3637e-06 - accuracy: 1.0000 - val_loss: 3.1767 - val_accuracy: 0.7143\n",
            "Epoch 210/1000\n",
            "2/2 [==============================] - 0s 29ms/step - loss: 1.3637e-06 - accuracy: 1.0000 - val_loss: 3.1807 - val_accuracy: 0.7143\n",
            "Epoch 211/1000\n",
            "2/2 [==============================] - 0s 24ms/step - loss: 1.3590e-06 - accuracy: 1.0000 - val_loss: 3.1852 - val_accuracy: 0.7143\n",
            "Epoch 212/1000\n",
            "2/2 [==============================] - 0s 26ms/step - loss: 1.3590e-06 - accuracy: 1.0000 - val_loss: 3.1874 - val_accuracy: 0.7143\n",
            "Epoch 213/1000\n",
            "2/2 [==============================] - 0s 22ms/step - loss: 1.3542e-06 - accuracy: 1.0000 - val_loss: 3.1925 - val_accuracy: 0.7143\n",
            "Epoch 214/1000\n",
            "2/2 [==============================] - 0s 25ms/step - loss: 1.3494e-06 - accuracy: 1.0000 - val_loss: 3.1988 - val_accuracy: 0.7143\n",
            "Epoch 215/1000\n",
            "2/2 [==============================] - 0s 21ms/step - loss: 1.3399e-06 - accuracy: 1.0000 - val_loss: 3.2030 - val_accuracy: 0.7143\n",
            "Epoch 216/1000\n",
            "2/2 [==============================] - 0s 23ms/step - loss: 1.3399e-06 - accuracy: 1.0000 - val_loss: 3.2063 - val_accuracy: 0.7143\n",
            "Epoch 217/1000\n",
            "2/2 [==============================] - 0s 27ms/step - loss: 1.3351e-06 - accuracy: 1.0000 - val_loss: 3.2140 - val_accuracy: 0.7143\n",
            "Epoch 218/1000\n",
            "2/2 [==============================] - 0s 23ms/step - loss: 1.3304e-06 - accuracy: 1.0000 - val_loss: 3.2226 - val_accuracy: 0.7143\n",
            "Epoch 219/1000\n",
            "2/2 [==============================] - 0s 25ms/step - loss: 1.3208e-06 - accuracy: 1.0000 - val_loss: 3.2277 - val_accuracy: 0.7143\n",
            "Epoch 220/1000\n",
            "2/2 [==============================] - 0s 29ms/step - loss: 1.3208e-06 - accuracy: 1.0000 - val_loss: 3.2348 - val_accuracy: 0.7143\n",
            "Epoch 221/1000\n",
            "2/2 [==============================] - 0s 24ms/step - loss: 1.3113e-06 - accuracy: 1.0000 - val_loss: 3.2403 - val_accuracy: 0.7143\n",
            "Epoch 222/1000\n",
            "2/2 [==============================] - 0s 27ms/step - loss: 1.3065e-06 - accuracy: 1.0000 - val_loss: 3.2451 - val_accuracy: 0.7143\n",
            "Epoch 223/1000\n",
            "2/2 [==============================] - 0s 23ms/step - loss: 1.3065e-06 - accuracy: 1.0000 - val_loss: 3.2504 - val_accuracy: 0.7143\n",
            "Epoch 224/1000\n",
            "2/2 [==============================] - 0s 22ms/step - loss: 1.3018e-06 - accuracy: 1.0000 - val_loss: 3.2561 - val_accuracy: 0.7143\n",
            "Epoch 225/1000\n",
            "2/2 [==============================] - 0s 29ms/step - loss: 1.2970e-06 - accuracy: 1.0000 - val_loss: 3.2644 - val_accuracy: 0.7143\n",
            "Epoch 226/1000\n",
            "2/2 [==============================] - 0s 26ms/step - loss: 1.2874e-06 - accuracy: 1.0000 - val_loss: 3.2732 - val_accuracy: 0.7143\n",
            "Epoch 227/1000\n",
            "2/2 [==============================] - 0s 28ms/step - loss: 1.2731e-06 - accuracy: 1.0000 - val_loss: 3.2998 - val_accuracy: 0.7143\n",
            "Epoch 228/1000\n",
            "2/2 [==============================] - 0s 25ms/step - loss: 1.2445e-06 - accuracy: 1.0000 - val_loss: 3.3125 - val_accuracy: 0.7143\n",
            "Epoch 229/1000\n",
            "2/2 [==============================] - 0s 29ms/step - loss: 1.2398e-06 - accuracy: 1.0000 - val_loss: 3.3380 - val_accuracy: 0.7143\n",
            "Epoch 230/1000\n",
            "2/2 [==============================] - 0s 23ms/step - loss: 1.2207e-06 - accuracy: 1.0000 - val_loss: 3.3483 - val_accuracy: 0.7143\n",
            "Epoch 231/1000\n",
            "2/2 [==============================] - 0s 24ms/step - loss: 1.2112e-06 - accuracy: 1.0000 - val_loss: 3.3685 - val_accuracy: 0.7143\n",
            "Epoch 232/1000\n",
            "2/2 [==============================] - 0s 23ms/step - loss: 1.1921e-06 - accuracy: 1.0000 - val_loss: 3.4098 - val_accuracy: 0.7143\n",
            "Epoch 233/1000\n",
            "2/2 [==============================] - 0s 25ms/step - loss: 1.1635e-06 - accuracy: 1.0000 - val_loss: 3.4256 - val_accuracy: 0.7143\n",
            "Epoch 234/1000\n",
            "2/2 [==============================] - 0s 27ms/step - loss: 1.1539e-06 - accuracy: 1.0000 - val_loss: 3.4656 - val_accuracy: 0.7143\n",
            "Epoch 235/1000\n",
            "2/2 [==============================] - 0s 25ms/step - loss: 1.1158e-06 - accuracy: 1.0000 - val_loss: 3.4804 - val_accuracy: 0.7143\n",
            "Epoch 236/1000\n",
            "2/2 [==============================] - 0s 27ms/step - loss: 1.1063e-06 - accuracy: 1.0000 - val_loss: 3.5152 - val_accuracy: 0.7143\n",
            "Epoch 237/1000\n",
            "2/2 [==============================] - 0s 33ms/step - loss: 1.0776e-06 - accuracy: 1.0000 - val_loss: 3.5371 - val_accuracy: 0.7143\n",
            "Epoch 238/1000\n",
            "2/2 [==============================] - 0s 29ms/step - loss: 1.0633e-06 - accuracy: 1.0000 - val_loss: 3.5610 - val_accuracy: 0.7143\n",
            "Epoch 239/1000\n",
            "2/2 [==============================] - 0s 27ms/step - loss: 1.0443e-06 - accuracy: 1.0000 - val_loss: 3.6285 - val_accuracy: 0.7143\n",
            "Epoch 240/1000\n",
            "2/2 [==============================] - 0s 25ms/step - loss: 9.9658e-07 - accuracy: 1.0000 - val_loss: 3.6695 - val_accuracy: 0.7143\n",
            "Epoch 241/1000\n",
            "2/2 [==============================] - 0s 25ms/step - loss: 9.7751e-07 - accuracy: 1.0000 - val_loss: 3.7086 - val_accuracy: 0.7143\n",
            "Epoch 242/1000\n",
            "2/2 [==============================] - 0s 29ms/step - loss: 9.4413e-07 - accuracy: 1.0000 - val_loss: 3.7348 - val_accuracy: 0.7143\n",
            "Epoch 243/1000\n",
            "2/2 [==============================] - 0s 26ms/step - loss: 9.2983e-07 - accuracy: 1.0000 - val_loss: 3.7707 - val_accuracy: 0.7143\n",
            "Epoch 244/1000\n",
            "2/2 [==============================] - 0s 25ms/step - loss: 9.1075e-07 - accuracy: 1.0000 - val_loss: 3.8037 - val_accuracy: 0.7143\n",
            "Epoch 245/1000\n",
            "2/2 [==============================] - 0s 25ms/step - loss: 8.9168e-07 - accuracy: 1.0000 - val_loss: 3.8536 - val_accuracy: 0.7143\n",
            "Epoch 246/1000\n",
            "2/2 [==============================] - 0s 25ms/step - loss: 8.5353e-07 - accuracy: 1.0000 - val_loss: 3.8893 - val_accuracy: 0.7143\n",
            "Epoch 247/1000\n",
            "2/2 [==============================] - 0s 34ms/step - loss: 8.4400e-07 - accuracy: 1.0000 - val_loss: 3.9254 - val_accuracy: 0.7143\n",
            "Epoch 248/1000\n",
            "2/2 [==============================] - 0s 27ms/step - loss: 8.2016e-07 - accuracy: 1.0000 - val_loss: 3.9824 - val_accuracy: 0.7143\n",
            "Epoch 249/1000\n",
            "2/2 [==============================] - 0s 24ms/step - loss: 7.8678e-07 - accuracy: 1.0000 - val_loss: 4.1162 - val_accuracy: 0.7143\n",
            "Epoch 250/1000\n",
            "2/2 [==============================] - 0s 41ms/step - loss: 7.1048e-07 - accuracy: 1.0000 - val_loss: 4.2543 - val_accuracy: 0.7143\n",
            "Epoch 251/1000\n",
            "2/2 [==============================] - 0s 23ms/step - loss: 6.5326e-07 - accuracy: 1.0000 - val_loss: 4.3036 - val_accuracy: 0.7143\n",
            "Epoch 252/1000\n",
            "2/2 [==============================] - 0s 26ms/step - loss: 6.2465e-07 - accuracy: 1.0000 - val_loss: 4.3400 - val_accuracy: 0.7143\n",
            "Epoch 253/1000\n",
            "2/2 [==============================] - 0s 27ms/step - loss: 6.1512e-07 - accuracy: 1.0000 - val_loss: 4.3860 - val_accuracy: 0.7143\n",
            "Epoch 254/1000\n",
            "2/2 [==============================] - 0s 27ms/step - loss: 6.0081e-07 - accuracy: 1.0000 - val_loss: 4.4576 - val_accuracy: 0.7143\n",
            "Epoch 255/1000\n",
            "2/2 [==============================] - 0s 27ms/step - loss: 5.6743e-07 - accuracy: 1.0000 - val_loss: 4.4957 - val_accuracy: 0.7143\n",
            "Epoch 256/1000\n",
            "2/2 [==============================] - 0s 27ms/step - loss: 5.4836e-07 - accuracy: 1.0000 - val_loss: 4.5390 - val_accuracy: 0.7143\n",
            "Epoch 257/1000\n",
            "2/2 [==============================] - 0s 25ms/step - loss: 5.2452e-07 - accuracy: 1.0000 - val_loss: 4.6420 - val_accuracy: 0.7143\n",
            "Epoch 258/1000\n",
            "2/2 [==============================] - 0s 28ms/step - loss: 5.0068e-07 - accuracy: 1.0000 - val_loss: 4.7079 - val_accuracy: 0.7143\n",
            "Epoch 259/1000\n",
            "2/2 [==============================] - 0s 29ms/step - loss: 4.8637e-07 - accuracy: 1.0000 - val_loss: 4.7122 - val_accuracy: 0.7143\n",
            "Epoch 260/1000\n",
            "2/2 [==============================] - 0s 26ms/step - loss: 4.7207e-07 - accuracy: 1.0000 - val_loss: 4.7355 - val_accuracy: 0.7143\n",
            "Epoch 261/1000\n",
            "2/2 [==============================] - 0s 25ms/step - loss: 4.5299e-07 - accuracy: 1.0000 - val_loss: 4.7830 - val_accuracy: 0.7143\n",
            "Epoch 262/1000\n",
            "2/2 [==============================] - 0s 27ms/step - loss: 4.3869e-07 - accuracy: 1.0000 - val_loss: 5.0724 - val_accuracy: 0.7143\n",
            "Epoch 263/1000\n",
            "2/2 [==============================] - 0s 27ms/step - loss: 3.7193e-07 - accuracy: 1.0000 - val_loss: 5.0299 - val_accuracy: 0.7143\n",
            "Epoch 264/1000\n",
            "2/2 [==============================] - 0s 29ms/step - loss: 3.5286e-07 - accuracy: 1.0000 - val_loss: 5.0101 - val_accuracy: 0.7143\n"
          ]
        }
      ]
    },
    {
      "cell_type": "code",
      "source": [
        "# Đánh giá độ chính xác của mô hình \n",
        "Score=model.evaluate(x_train,y_train,verbose=0)\n",
        "print('Train Loss', Score[0])\n",
        "print('Train Accuracy', Score[1])"
      ],
      "metadata": {
        "colab": {
          "base_uri": "https://localhost:8080/"
        },
        "id": "odMPFzd76Qq5",
        "outputId": "d1172545-218f-4a55-eaf5-0204b514e3d8"
      },
      "execution_count": null,
      "outputs": [
        {
          "output_type": "stream",
          "name": "stdout",
          "text": [
            "Train Loss 1.095969319343567\n",
            "Train Accuracy 0.9375\n"
          ]
        }
      ]
    },
    {
      "cell_type": "code",
      "source": [
        "# Vẽ đồ thị giữa số lần học (Epochs) và độ chính xác (Accuracy)\n",
        "plt.plot(history.history['accuracy'])\n",
        "plt.plot(history.history['val_accuracy'])\n",
        "plt.title('Model Accuracy')\n",
        "plt.ylabel('Accuracy')\n",
        "plt.xlabel('Epochs')\n",
        "plt.legend(['Train','Validation'])\n",
        "plt.show"
      ],
      "metadata": {
        "colab": {
          "base_uri": "https://localhost:8080/",
          "height": 312
        },
        "id": "OsPQlWa46QuX",
        "outputId": "01b52e60-dfab-47b3-db43-dd68302bb24e"
      },
      "execution_count": null,
      "outputs": [
        {
          "output_type": "execute_result",
          "data": {
            "text/plain": [
              "<function matplotlib.pyplot.show>"
            ]
          },
          "metadata": {},
          "execution_count": 17
        },
        {
          "output_type": "display_data",
          "data": {
            "text/plain": [
              "<Figure size 432x288 with 1 Axes>"
            ],
            "image/png": "[encoded data removed]"
          },
          "metadata": {
            "needs_background": "light"
          }
        }
      ]
    },
    {
      "cell_type": "code",
      "source": [
        "# Lưu lại\n",
        "model.save(\"Nhan_dien_khuon_mat.h5\")"
      ],
      "metadata": {
        "id": "5pBzuOM26Qww"
      },
      "execution_count": null,
      "outputs": []
    },
    {
      "cell_type": "code",
      "source": [
        "# Tải mô hình \n",
        "model_ANN=load_model('Nhan_dien_khuon_mat.h5')"
      ],
      "metadata": {
        "id": "57UfMufT6Qzl"
      },
      "execution_count": null,
      "outputs": []
    },
    {
      "cell_type": "code",
      "source": [
        "# Kiểm tra các hình có trong bộ dữ liệu test_set\n",
        "img=load_img('/content/drive/MyDrive/Colab Notebooks/BTW13/NHAN_DIEN_KHUON_MAT/test_set/Phap (4).jpg',target_size=(32,32))\n",
        "plt.imshow(img)\n",
        "img=img_to_array(img)\n",
        "img=img.reshape(1,3072)\n",
        "img=img.astype('float32')\n",
        "img=img/255\n",
        "result=np.argmax(model_ANN.predict(img),axis=1)\n",
        "if result==0:\n",
        "  prediction=\"DAY KHONG PHAI LA PHAP\"\n",
        "if result==1:\n",
        "  prediction=\"DAY LA PHAP\"\n",
        "print(prediction)"
      ],
      "metadata": {
        "colab": {
          "base_uri": "https://localhost:8080/",
          "height": 283
        },
        "id": "uXpVroBJ9Spx",
        "outputId": "3d245525-f5b9-450a-b184-58fcae04f63c"
      },
      "execution_count": null,
      "outputs": [
        {
          "output_type": "stream",
          "name": "stdout",
          "text": [
            "DAY LA PHAP\n"
          ]
        },
        {
          "output_type": "display_data",
          "data": {
            "text/plain": [
              "<Figure size 432x288 with 1 Axes>"
            ],
            "image/png": "[encoded data removed]"
          },
          "metadata": {
            "needs_background": "light"
          }
        }
      ]
    },
    {
      "cell_type": "code",
      "source": [
        "# Kiểm tra các hình có trong bộ dữ liệu test_set\n",
        "img=load_img('/content/drive/MyDrive/Colab Notebooks/BTW13/NHAN_DIEN_KHUON_MAT/test_set/No (33).JPG',target_size=(32,32))\n",
        "plt.imshow(img)\n",
        "img=img_to_array(img)\n",
        "img=img.reshape(1,3072)\n",
        "img=img.astype('float32')\n",
        "img=img/255\n",
        "result=np.argmax(model_ANN.predict(img),axis=1)\n",
        "if result==0:\n",
        "  prediction=\"DAY KHONG PHAI LA PHAP\"\n",
        "if result==1:\n",
        "  prediction=\"DAY LA PHAP\"\n",
        "print(prediction)"
      ],
      "metadata": {
        "colab": {
          "base_uri": "https://localhost:8080/",
          "height": 283
        },
        "id": "3jTFmofE_tbX",
        "outputId": "3b8e34df-32c3-47fb-af8b-f4d476773113"
      },
      "execution_count": null,
      "outputs": [
        {
          "output_type": "stream",
          "name": "stdout",
          "text": [
            "DAY KHONG PHAI LA PHAP\n"
          ]
        },
        {
          "output_type": "display_data",
          "data": {
            "text/plain": [
              "<Figure size 432x288 with 1 Axes>"
            ],
            "image/png": "[encoded data removed]"
          },
          "metadata": {
            "needs_background": "light"
          }
        }
      ]
    },
    {
      "cell_type": "code",
      "source": [
        "# Chuyển sang pdf\n",
        "from google.colab import drive\n",
        "drive.mount('/content/drive')\n",
        "!sudo apt-get install texlive-xetex texlive-fonts-recommended texlive-generic-recommended\n",
        "!wget -nc https://raw.githubusercontent.com/brpy/colab-pdf/master/colab_pdf.py\n",
        "from colab_pdf import colab_pdf\n",
        "colab_pdf('NHAN_DIEN_KHUON_MAT.ipynb')"
      ],
      "metadata": {
        "colab": {
          "base_uri": "https://localhost:8080/",
          "height": 1000
        },
        "id": "zcda7lVe_4jt",
        "outputId": "97b8abc8-8a28-44b9-c3ac-acfbb0b57aae"
      },
      "execution_count": null,
      "outputs": [
        {
          "output_type": "stream",
          "name": "stdout",
          "text": [
            "Drive already mounted at /content/drive; to attempt to forcibly remount, call drive.mount(\"/content/drive\", force_remount=True).\n",
            "shell-init: error retrieving current directory: getcwd: cannot access parent directories: Transport endpoint is not connected\n",
            "Reading package lists... Done\n",
            "Building dependency tree       \n",
            "Reading state information... Done\n",
            "texlive-fonts-recommended is already the newest version (2017.20180305-1).\n",
            "texlive-generic-recommended is already the newest version (2017.20180305-1).\n",
            "texlive-xetex is already the newest version (2017.20180305-1).\n",
            "The following packages were automatically installed and are no longer required:\n",
            "  libnvidia-common-460 nsight-compute-2020.2.0\n",
            "Use 'sudo apt autoremove' to remove them.\n",
            "0 upgraded, 0 newly installed, 0 to remove and 42 not upgraded.\n",
            "shell-init: error retrieving current directory: getcwd: cannot access parent directories: Transport endpoint is not connected\n",
            "pathconf: Transport endpoint is not connected\n",
            "--2022-05-14 08:23:22--  https://raw.githubusercontent.com/brpy/colab-pdf/master/colab_pdf.py\n",
            "Resolving raw.githubusercontent.com (raw.githubusercontent.com)... 185.199.108.133, 185.199.109.133, 185.199.110.133, ...\n",
            "Connecting to raw.githubusercontent.com (raw.githubusercontent.com)|185.199.108.133|:443... connected.\n",
            "HTTP request sent, awaiting response... 200 OK\n",
            "Length: 1864 (1.8K) [text/plain]\n",
            "colab_pdf.py: Transport endpoint is not connected\n",
            "\n",
            "Cannot write to ‘colab_pdf.py’ (Success).\n"
          ]
        },
        {
          "output_type": "stream",
          "name": "stderr",
          "text": [
            "ERROR:root:Internal Python error in the inspect module.\n",
            "Below is the traceback from this internal error.\n",
            "\n"
          ]
        },
        {
          "output_type": "stream",
          "name": "stdout",
          "text": [
            "Traceback (most recent call last):\n",
            "  File \"/usr/local/lib/python3.7/dist-packages/IPython/core/interactiveshell.py\", line 2882, in run_code\n",
            "    exec(code_obj, self.user_global_ns, self.user_ns)\n",
            "  File \"<ipython-input-39-867664b56fb4>\", line 7, in <module>\n",
            "    colab_pdf('NHAN_DIEN_KHUON_MAT.ipynb')\n",
            "  File \"/content/drive/MyDrive/Colab Notebooks/BTW13/NHAN_DIEN_KHUON_MAT/Anh_khuon_mat/colab_pdf.py\", line 22, in colab_pdf\n",
            "    raise ValueError(f\"file '{file_name}' not found in path '{notebookpath}'.\")\n",
            "ValueError: file 'NHAN_DIEN_KHUON_MAT.ipynb' not found in path '/content/drive/MyDrive/Colab Notebooks/'.\n",
            "\n",
            "During handling of the above exception, another exception occurred:\n",
            "\n",
            "Traceback (most recent call last):\n",
            "  File \"/usr/local/lib/python3.7/dist-packages/IPython/core/interactiveshell.py\", line 1823, in showtraceback\n",
            "    stb = value._render_traceback_()\n",
            "AttributeError: 'ValueError' object has no attribute '_render_traceback_'\n",
            "\n",
            "During handling of the above exception, another exception occurred:\n",
            "\n",
            "Traceback (most recent call last):\n",
            "  File \"/usr/local/lib/python3.7/dist-packages/IPython/core/ultratb.py\", line 1132, in get_records\n",
            "    return _fixed_getinnerframes(etb, number_of_lines_of_context, tb_offset)\n",
            "  File \"/usr/local/lib/python3.7/dist-packages/IPython/core/ultratb.py\", line 313, in wrapped\n",
            "    return f(*args, **kwargs)\n",
            "  File \"/usr/local/lib/python3.7/dist-packages/IPython/core/ultratb.py\", line 358, in _fixed_getinnerframes\n",
            "    records = fix_frame_records_filenames(inspect.getinnerframes(etb, context))\n",
            "  File \"/usr/lib/python3.7/inspect.py\", line 1502, in getinnerframes\n",
            "    frameinfo = (tb.tb_frame,) + getframeinfo(tb, context)\n",
            "  File \"/usr/lib/python3.7/inspect.py\", line 1460, in getframeinfo\n",
            "    filename = getsourcefile(frame) or getfile(frame)\n",
            "  File \"/usr/lib/python3.7/inspect.py\", line 696, in getsourcefile\n",
            "    if getattr(getmodule(object, filename), '__loader__', None) is not None:\n",
            "  File \"/usr/lib/python3.7/inspect.py\", line 725, in getmodule\n",
            "    file = getabsfile(object, _filename)\n",
            "  File \"/usr/lib/python3.7/inspect.py\", line 709, in getabsfile\n",
            "    return os.path.normcase(os.path.abspath(_filename))\n",
            "  File \"/usr/lib/python3.7/posixpath.py\", line 383, in abspath\n",
            "    cwd = os.getcwd()\n",
            "OSError: [Errno 107] Transport endpoint is not connected\n"
          ]
        },
        {
          "output_type": "error",
          "ename": "ValueError",
          "evalue": "ignored",
          "traceback": [
            "\u001b[0;31m---------------------------------------------------------------------------\u001b[0m"
          ]
        }
      ]
    },
    {
      "cell_type": "code",
      "source": [
        ""
      ],
      "metadata": {
        "id": "Pu226ivCJrF0"
      },
      "execution_count": null,
      "outputs": []
    },
    {
      "cell_type": "code",
      "source": [
        ""
      ],
      "metadata": {
        "id": "FNoGmbhuJwFw"
      },
      "execution_count": null,
      "outputs": []
    },
    {
      "cell_type": "code",
      "source": [
        ""
      ],
      "metadata": {
        "id": "ip62SVtGJ063"
      },
      "execution_count": null,
      "outputs": []
    },
    {
      "cell_type": "code",
      "source": [
        ""
      ],
      "metadata": {
        "id": "JRydZCDpJ3Ei"
      },
      "execution_count": null,
      "outputs": []
    },
    {
      "cell_type": "markdown",
      "source": [
        "# Mục mới"
      ],
      "metadata": {
        "id": "VyhnRaRNuWjB"
      }
    },
    {
      "cell_type": "code",
      "source": [
        ""
      ],
      "metadata": {
        "id": "vQPlFokwJqg9"
      },
      "execution_count": null,
      "outputs": []
    },
    {
      "cell_type": "markdown",
      "source": [
        "# Mục mới"
      ],
      "metadata": {
        "id": "JlyPyei4uZIb"
      }
    }
  ]
}